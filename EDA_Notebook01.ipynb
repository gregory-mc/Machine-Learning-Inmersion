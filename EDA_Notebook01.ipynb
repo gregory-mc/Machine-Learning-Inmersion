{
  "nbformat": 4,
  "nbformat_minor": 0,
  "metadata": {
    "colab": {
      "name": "EDA - Notebook01.ipynb",
      "provenance": [],
      "collapsed_sections": [],
      "include_colab_link": true
    },
    "kernelspec": {
      "display_name": "Python 3",
      "language": "python",
      "name": "python3"
    },
    "language_info": {
      "codemirror_mode": {
        "name": "ipython",
        "version": 3
      },
      "file_extension": ".py",
      "mimetype": "text/x-python",
      "name": "python",
      "nbconvert_exporter": "python",
      "pygments_lexer": "ipython3",
      "version": "3.7.6"
    }
  },
  "cells": [
    {
      "cell_type": "markdown",
      "metadata": {
        "id": "view-in-github",
        "colab_type": "text"
      },
      "source": [
        "<a href=\"https://colab.research.google.com/github/gregory-mc/Machine-Learning-Inmersion/blob/main/EDA_Notebook01.ipynb\" target=\"_parent\"><img src=\"https://colab.research.google.com/assets/colab-badge.svg\" alt=\"Open In Colab\"/></a>"
      ]
    },
    {
      "cell_type": "code",
      "metadata": {
        "id": "ClfzzCsWYTOt"
      },
      "source": [
        "#########################################################################\n",
        "#########------- Machine Learning Inmersion ------------#################\n",
        "#########################################################################\n",
        "# Capacitador: André Omar Chávez Panduro\n",
        "# email: andre.chavez@urp.edu.pe\n",
        "# Tema:  EDA \n",
        "# version: 1.0\n",
        "#########################################################################"
      ],
      "execution_count": null,
      "outputs": []
    },
    {
      "cell_type": "code",
      "metadata": {
        "colab": {
          "base_uri": "https://localhost:8080/"
        },
        "id": "6XwfXd8wYgk8",
        "outputId": "93e58014-83e9-4b90-ffa4-4b55736fc859"
      },
      "source": [
        "# Conexion a Google Colaborative\n",
        "from google.colab import drive\n",
        "drive.mount('/content/gdrive')"
      ],
      "execution_count": null,
      "outputs": [
        {
          "output_type": "stream",
          "text": [
            "Mounted at /content/gdrive\n"
          ],
          "name": "stdout"
        }
      ]
    },
    {
      "cell_type": "markdown",
      "metadata": {
        "id": "HYFMoTF3o_7q"
      },
      "source": [
        "### **1. Carga de Modulos**"
      ]
    },
    {
      "cell_type": "code",
      "metadata": {
        "id": "lXgDJzSto_7q"
      },
      "source": [
        "import pandas as pd\n",
        "import numpy as np\n",
        "import seaborn as sns\n",
        "import matplotlib.pyplot as plt\n"
      ],
      "execution_count": null,
      "outputs": []
    },
    {
      "cell_type": "markdown",
      "metadata": {
        "id": "aihmvjWFJQki"
      },
      "source": [
        "### **2. Lectura Inicial de base de datos**"
      ]
    },
    {
      "cell_type": "markdown",
      "metadata": {
        "id": "VA4x6UFNJa-u"
      },
      "source": [
        "#### 2.1. Carga de datos"
      ]
    },
    {
      "cell_type": "code",
      "metadata": {
        "id": "MGHG20jqo_7t"
      },
      "source": [
        "df = pd.read_csv(\"/content/gdrive/MyDrive/MLIPy/S2/AdquisicionCreditoHipotecario.csv\") # Ruta donde esta su set de datos!"
      ],
      "execution_count": null,
      "outputs": []
    },
    {
      "cell_type": "code",
      "metadata": {
        "colab": {
          "base_uri": "https://localhost:8080/"
        },
        "id": "fyv9MIGRo_7-",
        "outputId": "85ca6032-44f6-45f1-cc68-378750696f6a"
      },
      "source": [
        "df.shape\n"
      ],
      "execution_count": null,
      "outputs": [
        {
          "output_type": "execute_result",
          "data": {
            "text/plain": [
              "(614, 13)"
            ]
          },
          "metadata": {
            "tags": []
          },
          "execution_count": 7
        }
      ]
    },
    {
      "cell_type": "code",
      "metadata": {
        "colab": {
          "base_uri": "https://localhost:8080/",
          "height": 244
        },
        "id": "k9ItZ17Ktql1",
        "outputId": "ee8bde58-7485-4878-f2ac-5e0d672f2c74"
      },
      "source": [
        "# Visualizacion Global de los datos\n",
        "df.tail(5)"
      ],
      "execution_count": null,
      "outputs": [
        {
          "output_type": "execute_result",
          "data": {
            "text/html": [
              "<div>\n",
              "<style scoped>\n",
              "    .dataframe tbody tr th:only-of-type {\n",
              "        vertical-align: middle;\n",
              "    }\n",
              "\n",
              "    .dataframe tbody tr th {\n",
              "        vertical-align: top;\n",
              "    }\n",
              "\n",
              "    .dataframe thead th {\n",
              "        text-align: right;\n",
              "    }\n",
              "</style>\n",
              "<table border=\"1\" class=\"dataframe\">\n",
              "  <thead>\n",
              "    <tr style=\"text-align: right;\">\n",
              "      <th></th>\n",
              "      <th>Loan ID</th>\n",
              "      <th>Gender</th>\n",
              "      <th>Married</th>\n",
              "      <th>Dependents</th>\n",
              "      <th>Education</th>\n",
              "      <th>Self Employed</th>\n",
              "      <th>ApplicantIncome</th>\n",
              "      <th>CoapplicantIncome</th>\n",
              "      <th>LoanAmount</th>\n",
              "      <th>Loan_Amount_Term</th>\n",
              "      <th>Credit History</th>\n",
              "      <th>Property_Area</th>\n",
              "      <th>Loan_Status</th>\n",
              "    </tr>\n",
              "  </thead>\n",
              "  <tbody>\n",
              "    <tr>\n",
              "      <th>609</th>\n",
              "      <td>LP002978</td>\n",
              "      <td>Female</td>\n",
              "      <td>No</td>\n",
              "      <td>0</td>\n",
              "      <td>Graduate</td>\n",
              "      <td>No</td>\n",
              "      <td>2900</td>\n",
              "      <td>0.0</td>\n",
              "      <td>71.0</td>\n",
              "      <td>360.0</td>\n",
              "      <td>1.0</td>\n",
              "      <td>Rural</td>\n",
              "      <td>Y</td>\n",
              "    </tr>\n",
              "    <tr>\n",
              "      <th>610</th>\n",
              "      <td>LP002979</td>\n",
              "      <td>Male</td>\n",
              "      <td>Yes</td>\n",
              "      <td>3+</td>\n",
              "      <td>Graduate</td>\n",
              "      <td>No</td>\n",
              "      <td>4106</td>\n",
              "      <td>0.0</td>\n",
              "      <td>40.0</td>\n",
              "      <td>180.0</td>\n",
              "      <td>1.0</td>\n",
              "      <td>Rural</td>\n",
              "      <td>Y</td>\n",
              "    </tr>\n",
              "    <tr>\n",
              "      <th>611</th>\n",
              "      <td>LP002983</td>\n",
              "      <td>Male</td>\n",
              "      <td>Yes</td>\n",
              "      <td>1</td>\n",
              "      <td>Graduate</td>\n",
              "      <td>No</td>\n",
              "      <td>8072</td>\n",
              "      <td>240.0</td>\n",
              "      <td>253.0</td>\n",
              "      <td>360.0</td>\n",
              "      <td>1.0</td>\n",
              "      <td>Urban</td>\n",
              "      <td>Y</td>\n",
              "    </tr>\n",
              "    <tr>\n",
              "      <th>612</th>\n",
              "      <td>LP002984</td>\n",
              "      <td>Male</td>\n",
              "      <td>Yes</td>\n",
              "      <td>2</td>\n",
              "      <td>Graduate</td>\n",
              "      <td>No</td>\n",
              "      <td>7583</td>\n",
              "      <td>0.0</td>\n",
              "      <td>187.0</td>\n",
              "      <td>360.0</td>\n",
              "      <td>1.0</td>\n",
              "      <td>Urban</td>\n",
              "      <td>Y</td>\n",
              "    </tr>\n",
              "    <tr>\n",
              "      <th>613</th>\n",
              "      <td>LP002990</td>\n",
              "      <td>Female</td>\n",
              "      <td>No</td>\n",
              "      <td>0</td>\n",
              "      <td>Graduate</td>\n",
              "      <td>Yes</td>\n",
              "      <td>4583</td>\n",
              "      <td>0.0</td>\n",
              "      <td>133.0</td>\n",
              "      <td>360.0</td>\n",
              "      <td>0.0</td>\n",
              "      <td>Semiurban</td>\n",
              "      <td>N</td>\n",
              "    </tr>\n",
              "  </tbody>\n",
              "</table>\n",
              "</div>"
            ],
            "text/plain": [
              "      Loan ID  Gender Married  ... Credit History Property_Area Loan_Status\n",
              "609  LP002978  Female      No  ...            1.0         Rural           Y\n",
              "610  LP002979    Male     Yes  ...            1.0         Rural           Y\n",
              "611  LP002983    Male     Yes  ...            1.0         Urban           Y\n",
              "612  LP002984    Male     Yes  ...            1.0         Urban           Y\n",
              "613  LP002990  Female      No  ...            0.0     Semiurban           N\n",
              "\n",
              "[5 rows x 13 columns]"
            ]
          },
          "metadata": {
            "tags": []
          },
          "execution_count": 6
        }
      ]
    },
    {
      "cell_type": "markdown",
      "metadata": {
        "id": "9yEiYyeRJJqo"
      },
      "source": [
        "#### 2.2. Buenas prácticas"
      ]
    },
    {
      "cell_type": "code",
      "metadata": {
        "colab": {
          "base_uri": "https://localhost:8080/"
        },
        "id": "kOVESm8So_8B",
        "outputId": "d62c5fc6-e683-4472-c291-d1c594fce0e0"
      },
      "source": [
        "df.columns"
      ],
      "execution_count": null,
      "outputs": [
        {
          "output_type": "execute_result",
          "data": {
            "text/plain": [
              "Index(['Loan ID', 'Gender', 'Married', 'Dependents', 'Education',\n",
              "       'Self Employed', 'ApplicantIncome', 'CoapplicantIncome', 'LoanAmount',\n",
              "       'Loan_Amount_Term', 'Credit History', 'Property_Area', 'Loan_Status'],\n",
              "      dtype='object')"
            ]
          },
          "metadata": {
            "tags": []
          },
          "execution_count": 8
        }
      ]
    },
    {
      "cell_type": "code",
      "metadata": {
        "id": "Un3VkRVko_8E"
      },
      "source": [
        "# Renombramos las variables por buenas prácticas\n",
        "Columnsnames = ['ID', 'Gender', 'Married', 'Dependents', 'Education',\n",
        "       'Self_Employed', 'ApplicantIncome', 'CoapplicantIncome', 'LoanAmount',\n",
        "       'Loan_Amount_Term', 'Credit_History', 'Property_Area', 'Loan_Status']\n",
        "df.columns = Columnsnames"
      ],
      "execution_count": null,
      "outputs": []
    },
    {
      "cell_type": "code",
      "metadata": {
        "id": "JA2_7fb8PYFh"
      },
      "source": [
        ""
      ],
      "execution_count": null,
      "outputs": []
    },
    {
      "cell_type": "markdown",
      "metadata": {
        "id": "k36f1cppy3FL"
      },
      "source": [
        "#### 2.3. Identificando variables importantes/ delimitantes"
      ]
    },
    {
      "cell_type": "code",
      "metadata": {
        "colab": {
          "base_uri": "https://localhost:8080/"
        },
        "id": "NWlAeW_XzSce",
        "outputId": "97e8e8b7-49f1-47c2-ca24-ed562619a5f1"
      },
      "source": [
        "df.dtypes"
      ],
      "execution_count": null,
      "outputs": [
        {
          "output_type": "execute_result",
          "data": {
            "text/plain": [
              "ID                    object\n",
              "Gender                object\n",
              "Married               object\n",
              "Dependents            object\n",
              "Education             object\n",
              "Self_Employed         object\n",
              "ApplicantIncome        int64\n",
              "CoapplicantIncome    float64\n",
              "LoanAmount           float64\n",
              "Loan_Amount_Term     float64\n",
              "Credit_History       float64\n",
              "Property_Area         object\n",
              "Loan_Status           object\n",
              "dtype: object"
            ]
          },
          "metadata": {
            "tags": []
          },
          "execution_count": 10
        }
      ]
    },
    {
      "cell_type": "code",
      "metadata": {
        "colab": {
          "base_uri": "https://localhost:8080/"
        },
        "id": "n8kOUadrz-Fx",
        "outputId": "aaf08ac4-8f90-47e4-f875-5a34a6ec2cd9"
      },
      "source": [
        "# Los préstamos de menos de menos de 10 años tienen sentido? Revisemos los brief o especificaciones de negocio.\n",
        "df.groupby('Loan_Amount_Term').size()"
      ],
      "execution_count": null,
      "outputs": [
        {
          "output_type": "execute_result",
          "data": {
            "text/plain": [
              "Loan_Amount_Term\n",
              "12.0       1\n",
              "36.0       2\n",
              "60.0       2\n",
              "84.0       4\n",
              "120.0      3\n",
              "180.0     44\n",
              "240.0      4\n",
              "300.0     13\n",
              "360.0    512\n",
              "480.0     15\n",
              "dtype: int64"
            ]
          },
          "metadata": {
            "tags": []
          },
          "execution_count": 11
        }
      ]
    },
    {
      "cell_type": "code",
      "metadata": {
        "id": "3svDXrjuTcBv"
      },
      "source": [
        "# Elegir los solo las caracteristicas deseadas!\n",
        "df=df[df['Loan_Amount_Term']>=120]"
      ],
      "execution_count": null,
      "outputs": []
    },
    {
      "cell_type": "code",
      "metadata": {
        "colab": {
          "base_uri": "https://localhost:8080/"
        },
        "id": "SfglHkTYTcEt",
        "outputId": "4858fb66-d9f2-4e80-f0db-477a6d57cf77"
      },
      "source": [
        "# Revisamos el tamaño nuevo del set de datos\n",
        "df.shape"
      ],
      "execution_count": null,
      "outputs": [
        {
          "output_type": "execute_result",
          "data": {
            "text/plain": [
              "(591, 13)"
            ]
          },
          "metadata": {
            "tags": []
          },
          "execution_count": 13
        }
      ]
    },
    {
      "cell_type": "code",
      "metadata": {
        "colab": {
          "base_uri": "https://localhost:8080/"
        },
        "id": "4kHOy3envcJP",
        "outputId": "44df4375-2c4f-4a7f-cdb5-8a11e1c32cdb"
      },
      "source": [
        "# Revisamos la nueva distribucion de datos\n",
        "df.groupby(by='Loan_Amount_Term').size()"
      ],
      "execution_count": null,
      "outputs": [
        {
          "output_type": "execute_result",
          "data": {
            "text/plain": [
              "Loan_Amount_Term\n",
              "120.0      3\n",
              "180.0     44\n",
              "240.0      4\n",
              "300.0     13\n",
              "360.0    512\n",
              "480.0     15\n",
              "dtype: int64"
            ]
          },
          "metadata": {
            "tags": []
          },
          "execution_count": 14
        }
      ]
    },
    {
      "cell_type": "code",
      "metadata": {
        "id": "4dDDD1JavcGs"
      },
      "source": [
        "# Guardamos el data frame generado\n",
        "df.to_csv('') # Ruta a guardar el archivo generado!"
      ],
      "execution_count": null,
      "outputs": []
    },
    {
      "cell_type": "markdown",
      "metadata": {
        "id": "uBM3aaMtYLsG"
      },
      "source": [
        "#### 2.4. Los tipos de variables son los adecuados?"
      ]
    },
    {
      "cell_type": "code",
      "metadata": {
        "id": "ga3rL4HxYLsG"
      },
      "source": [
        "# El ingreso que tipo de dato debería ser?\n",
        "df.ApplicantIncome = df.ApplicantIncome.astype('float64')"
      ],
      "execution_count": null,
      "outputs": []
    },
    {
      "cell_type": "markdown",
      "metadata": {
        "id": "pw4Eb-hio_8Z"
      },
      "source": [
        "#### 2.5. Diferenciamos el tipo de variales"
      ]
    },
    {
      "cell_type": "code",
      "metadata": {
        "id": "O8cK0iSso_8a"
      },
      "source": [
        "columnsNumeric = ['ApplicantIncome','CoapplicantIncome','LoanAmount','Loan_Amount_Term','Credit_History'] # Creen su lista de numericas\n",
        "columnsString = ['Gender', 'Married', 'Dependents','Education','Self_Employed','Property_Area','Loan_Status'] # Crean su lista de categoricas"
      ],
      "execution_count": null,
      "outputs": []
    },
    {
      "cell_type": "markdown",
      "metadata": {
        "id": "_9CtdLHEsZUG"
      },
      "source": [
        "### **3. Análisis univariado**"
      ]
    },
    {
      "cell_type": "markdown",
      "metadata": {
        "id": "mnJ8MOCuo_8b"
      },
      "source": [
        "#### 3.1. Estudiamos las variables numericas"
      ]
    },
    {
      "cell_type": "markdown",
      "metadata": {
        "id": "N3y3B7eZRzr0"
      },
      "source": [
        "Primeros descubrimientos"
      ]
    },
    {
      "cell_type": "code",
      "metadata": {
        "colab": {
          "base_uri": "https://localhost:8080/",
          "height": 300
        },
        "id": "wq99a_9DwOE1",
        "outputId": "1f1231f2-a94a-4ad9-b4a3-d31dcc1c2d73"
      },
      "source": [
        "# Descripcion o estadisticas basicas de un set de datos\n",
        "df[columnsNumeric].describe()\n",
        "# Conclusiones!\n",
        "#Presencia de outliers al ver la difencia entre media y mediana.\n"
      ],
      "execution_count": null,
      "outputs": [
        {
          "output_type": "execute_result",
          "data": {
            "text/html": [
              "<div>\n",
              "<style scoped>\n",
              "    .dataframe tbody tr th:only-of-type {\n",
              "        vertical-align: middle;\n",
              "    }\n",
              "\n",
              "    .dataframe tbody tr th {\n",
              "        vertical-align: top;\n",
              "    }\n",
              "\n",
              "    .dataframe thead th {\n",
              "        text-align: right;\n",
              "    }\n",
              "</style>\n",
              "<table border=\"1\" class=\"dataframe\">\n",
              "  <thead>\n",
              "    <tr style=\"text-align: right;\">\n",
              "      <th></th>\n",
              "      <th>ApplicantIncome</th>\n",
              "      <th>CoapplicantIncome</th>\n",
              "      <th>LoanAmount</th>\n",
              "      <th>Loan_Amount_Term</th>\n",
              "      <th>Credit_History</th>\n",
              "    </tr>\n",
              "  </thead>\n",
              "  <tbody>\n",
              "    <tr>\n",
              "      <th>count</th>\n",
              "      <td>591.000000</td>\n",
              "      <td>591.000000</td>\n",
              "      <td>569.000000</td>\n",
              "      <td>591.000000</td>\n",
              "      <td>543.000000</td>\n",
              "    </tr>\n",
              "    <tr>\n",
              "      <th>mean</th>\n",
              "      <td>5451.510998</td>\n",
              "      <td>1621.443181</td>\n",
              "      <td>147.441125</td>\n",
              "      <td>346.294416</td>\n",
              "      <td>0.847145</td>\n",
              "    </tr>\n",
              "    <tr>\n",
              "      <th>std</th>\n",
              "      <td>6214.208723</td>\n",
              "      <td>2963.384542</td>\n",
              "      <td>86.918473</td>\n",
              "      <td>55.353789</td>\n",
              "      <td>0.360179</td>\n",
              "    </tr>\n",
              "    <tr>\n",
              "      <th>min</th>\n",
              "      <td>150.000000</td>\n",
              "      <td>0.000000</td>\n",
              "      <td>9.000000</td>\n",
              "      <td>120.000000</td>\n",
              "      <td>0.000000</td>\n",
              "    </tr>\n",
              "    <tr>\n",
              "      <th>25%</th>\n",
              "      <td>2874.000000</td>\n",
              "      <td>0.000000</td>\n",
              "      <td>100.000000</td>\n",
              "      <td>360.000000</td>\n",
              "      <td>1.000000</td>\n",
              "    </tr>\n",
              "    <tr>\n",
              "      <th>50%</th>\n",
              "      <td>3814.000000</td>\n",
              "      <td>1210.000000</td>\n",
              "      <td>128.000000</td>\n",
              "      <td>360.000000</td>\n",
              "      <td>1.000000</td>\n",
              "    </tr>\n",
              "    <tr>\n",
              "      <th>75%</th>\n",
              "      <td>5818.500000</td>\n",
              "      <td>2253.500000</td>\n",
              "      <td>170.000000</td>\n",
              "      <td>360.000000</td>\n",
              "      <td>1.000000</td>\n",
              "    </tr>\n",
              "    <tr>\n",
              "      <th>max</th>\n",
              "      <td>81000.000000</td>\n",
              "      <td>41667.000000</td>\n",
              "      <td>700.000000</td>\n",
              "      <td>480.000000</td>\n",
              "      <td>1.000000</td>\n",
              "    </tr>\n",
              "  </tbody>\n",
              "</table>\n",
              "</div>"
            ],
            "text/plain": [
              "       ApplicantIncome  CoapplicantIncome  ...  Loan_Amount_Term  Credit_History\n",
              "count       591.000000         591.000000  ...        591.000000      543.000000\n",
              "mean       5451.510998        1621.443181  ...        346.294416        0.847145\n",
              "std        6214.208723        2963.384542  ...         55.353789        0.360179\n",
              "min         150.000000           0.000000  ...        120.000000        0.000000\n",
              "25%        2874.000000           0.000000  ...        360.000000        1.000000\n",
              "50%        3814.000000        1210.000000  ...        360.000000        1.000000\n",
              "75%        5818.500000        2253.500000  ...        360.000000        1.000000\n",
              "max       81000.000000       41667.000000  ...        480.000000        1.000000\n",
              "\n",
              "[8 rows x 5 columns]"
            ]
          },
          "metadata": {
            "tags": []
          },
          "execution_count": 17
        }
      ]
    },
    {
      "cell_type": "code",
      "metadata": {
        "colab": {
          "base_uri": "https://localhost:8080/"
        },
        "id": "f3ckQ28fsnix",
        "outputId": "e629db26-dedb-417b-82f3-c11f7a31af54"
      },
      "source": [
        "df[columnsNumeric].dtypes"
      ],
      "execution_count": null,
      "outputs": [
        {
          "output_type": "execute_result",
          "data": {
            "text/plain": [
              "ApplicantIncome      float64\n",
              "CoapplicantIncome    float64\n",
              "LoanAmount           float64\n",
              "Loan_Amount_Term     float64\n",
              "Credit_History       float64\n",
              "dtype: object"
            ]
          },
          "metadata": {
            "tags": []
          },
          "execution_count": 18
        }
      ]
    },
    {
      "cell_type": "code",
      "metadata": {
        "colab": {
          "base_uri": "https://localhost:8080/",
          "height": 363
        },
        "id": "SAZhHrhOwSuP",
        "outputId": "2ad45736-de86-4273-c97a-0dfe0823167a"
      },
      "source": [
        "# Vista de los primeros registros, tenemos completitud de los datos?\n",
        "df[columnsNumeric].head(10)"
      ],
      "execution_count": null,
      "outputs": [
        {
          "output_type": "execute_result",
          "data": {
            "text/html": [
              "<div>\n",
              "<style scoped>\n",
              "    .dataframe tbody tr th:only-of-type {\n",
              "        vertical-align: middle;\n",
              "    }\n",
              "\n",
              "    .dataframe tbody tr th {\n",
              "        vertical-align: top;\n",
              "    }\n",
              "\n",
              "    .dataframe thead th {\n",
              "        text-align: right;\n",
              "    }\n",
              "</style>\n",
              "<table border=\"1\" class=\"dataframe\">\n",
              "  <thead>\n",
              "    <tr style=\"text-align: right;\">\n",
              "      <th></th>\n",
              "      <th>ApplicantIncome</th>\n",
              "      <th>CoapplicantIncome</th>\n",
              "      <th>LoanAmount</th>\n",
              "      <th>Loan_Amount_Term</th>\n",
              "      <th>Credit_History</th>\n",
              "    </tr>\n",
              "  </thead>\n",
              "  <tbody>\n",
              "    <tr>\n",
              "      <th>0</th>\n",
              "      <td>5849.0</td>\n",
              "      <td>0.0</td>\n",
              "      <td>NaN</td>\n",
              "      <td>360.0</td>\n",
              "      <td>1.0</td>\n",
              "    </tr>\n",
              "    <tr>\n",
              "      <th>1</th>\n",
              "      <td>4583.0</td>\n",
              "      <td>1508.0</td>\n",
              "      <td>128.0</td>\n",
              "      <td>360.0</td>\n",
              "      <td>1.0</td>\n",
              "    </tr>\n",
              "    <tr>\n",
              "      <th>2</th>\n",
              "      <td>3000.0</td>\n",
              "      <td>0.0</td>\n",
              "      <td>66.0</td>\n",
              "      <td>360.0</td>\n",
              "      <td>1.0</td>\n",
              "    </tr>\n",
              "    <tr>\n",
              "      <th>3</th>\n",
              "      <td>2583.0</td>\n",
              "      <td>2358.0</td>\n",
              "      <td>120.0</td>\n",
              "      <td>360.0</td>\n",
              "      <td>1.0</td>\n",
              "    </tr>\n",
              "    <tr>\n",
              "      <th>4</th>\n",
              "      <td>6000.0</td>\n",
              "      <td>0.0</td>\n",
              "      <td>141.0</td>\n",
              "      <td>360.0</td>\n",
              "      <td>1.0</td>\n",
              "    </tr>\n",
              "    <tr>\n",
              "      <th>5</th>\n",
              "      <td>5417.0</td>\n",
              "      <td>4196.0</td>\n",
              "      <td>267.0</td>\n",
              "      <td>360.0</td>\n",
              "      <td>1.0</td>\n",
              "    </tr>\n",
              "    <tr>\n",
              "      <th>6</th>\n",
              "      <td>2333.0</td>\n",
              "      <td>1516.0</td>\n",
              "      <td>95.0</td>\n",
              "      <td>360.0</td>\n",
              "      <td>1.0</td>\n",
              "    </tr>\n",
              "    <tr>\n",
              "      <th>7</th>\n",
              "      <td>3036.0</td>\n",
              "      <td>2504.0</td>\n",
              "      <td>158.0</td>\n",
              "      <td>360.0</td>\n",
              "      <td>0.0</td>\n",
              "    </tr>\n",
              "    <tr>\n",
              "      <th>8</th>\n",
              "      <td>4006.0</td>\n",
              "      <td>1526.0</td>\n",
              "      <td>168.0</td>\n",
              "      <td>360.0</td>\n",
              "      <td>1.0</td>\n",
              "    </tr>\n",
              "    <tr>\n",
              "      <th>9</th>\n",
              "      <td>12841.0</td>\n",
              "      <td>10968.0</td>\n",
              "      <td>349.0</td>\n",
              "      <td>360.0</td>\n",
              "      <td>1.0</td>\n",
              "    </tr>\n",
              "  </tbody>\n",
              "</table>\n",
              "</div>"
            ],
            "text/plain": [
              "   ApplicantIncome  CoapplicantIncome  ...  Loan_Amount_Term  Credit_History\n",
              "0           5849.0                0.0  ...             360.0             1.0\n",
              "1           4583.0             1508.0  ...             360.0             1.0\n",
              "2           3000.0                0.0  ...             360.0             1.0\n",
              "3           2583.0             2358.0  ...             360.0             1.0\n",
              "4           6000.0                0.0  ...             360.0             1.0\n",
              "5           5417.0             4196.0  ...             360.0             1.0\n",
              "6           2333.0             1516.0  ...             360.0             1.0\n",
              "7           3036.0             2504.0  ...             360.0             0.0\n",
              "8           4006.0             1526.0  ...             360.0             1.0\n",
              "9          12841.0            10968.0  ...             360.0             1.0\n",
              "\n",
              "[10 rows x 5 columns]"
            ]
          },
          "metadata": {
            "tags": []
          },
          "execution_count": 19
        }
      ]
    },
    {
      "cell_type": "code",
      "metadata": {
        "id": "BSRcRXk-s3Gr"
      },
      "source": [
        "# Notamos en la tabla anterior que algunas de las variables tienen valores nulos o missings\n",
        "# Anecdota del INEI."
      ],
      "execution_count": null,
      "outputs": []
    },
    {
      "cell_type": "markdown",
      "metadata": {
        "id": "LNCp31S2R3nc"
      },
      "source": [
        "Apoyo del análisis visual"
      ]
    },
    {
      "cell_type": "code",
      "metadata": {
        "colab": {
          "base_uri": "https://localhost:8080/",
          "height": 1000
        },
        "id": "FDfJNoKV5RPF",
        "outputId": "ad670145-3758-4670-f5c2-ecd1665c25ef"
      },
      "source": [
        "# Es muy importante analizar las variables cuantitativas :\n",
        "for x in columnsNumeric:\n",
        "  Q03 = int(df[x].quantile(0.75))+100 # Ver la escala del grafico\n",
        "  plt.title(df[x].name)\n",
        "  plt.hist(df[x], bins= 100,range=(0,Q03) )\n",
        "  plt.show()"
      ],
      "execution_count": null,
      "outputs": [
        {
          "output_type": "display_data",
          "data": {
            "image/png": "[encoded data removed]",
            "text/plain": [
              "<Figure size 432x288 with 1 Axes>"
            ]
          },
          "metadata": {
            "tags": [],
            "needs_background": "light"
          }
        },
        {
          "output_type": "display_data",
          "data": {
            "image/png": "[encoded data removed]",
            "text/plain": [
              "<Figure size 432x288 with 1 Axes>"
            ]
          },
          "metadata": {
            "tags": [],
            "needs_background": "light"
          }
        },
        {
          "output_type": "display_data",
          "data": {
            "image/png": "[encoded data removed]",
            "text/plain": [
              "<Figure size 432x288 with 1 Axes>"
            ]
          },
          "metadata": {
            "tags": [],
            "needs_background": "light"
          }
        },
        {
          "output_type": "display_data",
          "data": {
            "image/png": "[encoded data removed]",
            "text/plain": [
              "<Figure size 432x288 with 1 Axes>"
            ]
          },
          "metadata": {
            "tags": [],
            "needs_background": "light"
          }
        },
        {
          "output_type": "display_data",
          "data": {
            "image/png": "[encoded data removed]",
            "text/plain": [
              "<Figure size 432x288 with 1 Axes>"
            ]
          },
          "metadata": {
            "tags": [],
            "needs_background": "light"
          }
        }
      ]
    },
    {
      "cell_type": "code",
      "metadata": {
        "id": "86bfay48YLsb"
      },
      "source": [
        "# Algunas conclusiones importantes?\n",
        "# Las variables tienen distribución asimetrica positiva (cola derecha <outliers> )\n"
      ],
      "execution_count": null,
      "outputs": []
    },
    {
      "cell_type": "code",
      "metadata": {
        "colab": {
          "base_uri": "https://localhost:8080/",
          "height": 1000
        },
        "id": "B-jeOiVAMP8M",
        "outputId": "c26846e0-a2d6-4642-e939-54ec12010200"
      },
      "source": [
        "# Es muy importante analizar las variables cuantitativas, sobre todo respecto al objetivo:\n",
        "for x in columnsNumeric:\n",
        "  # Generamos los subsets de comparación\n",
        "  x1 = df.loc[df.Loan_Status =='Y', x]\n",
        "  x2 = df.loc[df.Loan_Status =='N', x]\n",
        "  Q03x1 = int(pd.DataFrame(x1)[x].quantile(0.75))+100\n",
        "  Q03x2 = int(pd.DataFrame(x2)[x].quantile(0.75))+100\n",
        "\n",
        "  # Mostramos las densidades\n",
        "  plt.title(df[x].name)\n",
        "  plt.hist(x1, bins= 100, color='r', range=(0,Q03x1), label='Y')\n",
        "  plt.hist(x2, bins= 100, color='g', range=(0,Q03x2), label='N')\n",
        "  plt.legend()\n",
        "  plt.show()"
      ],
      "execution_count": null,
      "outputs": [
        {
          "output_type": "display_data",
          "data": {
            "image/png": "[encoded data removed]",
            "text/plain": [
              "<Figure size 432x288 with 1 Axes>"
            ]
          },
          "metadata": {
            "tags": [],
            "needs_background": "light"
          }
        },
        {
          "output_type": "display_data",
          "data": {
            "image/png": "[encoded data removed]",
            "text/plain": [
              "<Figure size 432x288 with 1 Axes>"
            ]
          },
          "metadata": {
            "tags": [],
            "needs_background": "light"
          }
        },
        {
          "output_type": "display_data",
          "data": {
            "image/png": "[encoded data removed]",
            "text/plain": [
              "<Figure size 432x288 with 1 Axes>"
            ]
          },
          "metadata": {
            "tags": [],
            "needs_background": "light"
          }
        },
        {
          "output_type": "display_data",
          "data": {
            "image/png": "[encoded data removed]",
            "text/plain": [
              "<Figure size 432x288 with 1 Axes>"
            ]
          },
          "metadata": {
            "tags": [],
            "needs_background": "light"
          }
        },
        {
          "output_type": "display_data",
          "data": {
            "image/png": "[encoded data removed]",
            "text/plain": [
              "<Figure size 432x288 with 1 Axes>"
            ]
          },
          "metadata": {
            "tags": [],
            "needs_background": "light"
          }
        }
      ]
    },
    {
      "cell_type": "code",
      "metadata": {
        "id": "Owy-y6WDTtxe"
      },
      "source": [
        "# Algunas conclusiones importantes?\n",
        "# Todas son hipotesis que se deben constrastar con los datos!\n",
        "# Mientras mayor dinero ganen, mayor es el dinero que se le presta"
      ],
      "execution_count": null,
      "outputs": []
    },
    {
      "cell_type": "code",
      "metadata": {
        "colab": {
          "base_uri": "https://localhost:8080/",
          "height": 1000
        },
        "id": "ilHJol1Fg3Vm",
        "outputId": "2c24b92b-e0fd-4438-a590-81a472df6e88"
      },
      "source": [
        "# El grafico de cajas es muy importante pues nos muestra , dispersion, forma y atipicos:\n",
        "for x in columnsNumeric:\n",
        "  plt.title(df[x].name)\n",
        "  sns.boxplot(x=df[x], palette=\"Blues\");\n",
        "  plt.show()"
      ],
      "execution_count": null,
      "outputs": [
        {
          "output_type": "display_data",
          "data": {
            "image/png": "[encoded data removed]",
            "text/plain": [
              "<Figure size 432x288 with 1 Axes>"
            ]
          },
          "metadata": {
            "tags": [],
            "needs_background": "light"
          }
        },
        {
          "output_type": "display_data",
          "data": {
            "image/png": "[encoded data removed]",
            "text/plain": [
              "<Figure size 432x288 with 1 Axes>"
            ]
          },
          "metadata": {
            "tags": [],
            "needs_background": "light"
          }
        },
        {
          "output_type": "display_data",
          "data": {
            "image/png": "[encoded data removed]",
            "text/plain": [
              "<Figure size 432x288 with 1 Axes>"
            ]
          },
          "metadata": {
            "tags": [],
            "needs_background": "light"
          }
        },
        {
          "output_type": "display_data",
          "data": {
            "image/png": "[encoded data removed]",
            "text/plain": [
              "<Figure size 432x288 with 1 Axes>"
            ]
          },
          "metadata": {
            "tags": [],
            "needs_background": "light"
          }
        },
        {
          "output_type": "display_data",
          "data": {
            "image/png": "[encoded data removed]",
            "text/plain": [
              "<Figure size 432x288 with 1 Axes>"
            ]
          },
          "metadata": {
            "tags": [],
            "needs_background": "light"
          }
        }
      ]
    },
    {
      "cell_type": "code",
      "metadata": {
        "colab": {
          "base_uri": "https://localhost:8080/",
          "height": 1000
        },
        "id": "tP5mebL2g3w8",
        "outputId": "37eaaaf5-bd0f-428d-c19d-18d2856dad3e"
      },
      "source": [
        "# El grafico de cajas es muy importante pues nos muestra , dispersion, forma y atipicos; siempre respecto al target:\n",
        "for x in columnsNumeric:\n",
        "  plt.title(df[x].name)\n",
        "  sns.boxplot(x=df[x], y = df.Loan_Status);\n",
        "  plt.show()"
      ],
      "execution_count": null,
      "outputs": [
        {
          "output_type": "display_data",
          "data": {
            "image/png": "[encoded data removed]",
            "text/plain": [
              "<Figure size 432x288 with 1 Axes>"
            ]
          },
          "metadata": {
            "tags": [],
            "needs_background": "light"
          }
        },
        {
          "output_type": "display_data",
          "data": {
            "image/png": "[encoded data removed]",
            "text/plain": [
              "<Figure size 432x288 with 1 Axes>"
            ]
          },
          "metadata": {
            "tags": [],
            "needs_background": "light"
          }
        },
        {
          "output_type": "display_data",
          "data": {
            "image/png": "[encoded data removed]",
            "text/plain": [
              "<Figure size 432x288 with 1 Axes>"
            ]
          },
          "metadata": {
            "tags": [],
            "needs_background": "light"
          }
        },
        {
          "output_type": "display_data",
          "data": {
            "image/png": "[encoded data removed]",
            "text/plain": [
              "<Figure size 432x288 with 1 Axes>"
            ]
          },
          "metadata": {
            "tags": [],
            "needs_background": "light"
          }
        },
        {
          "output_type": "display_data",
          "data": {
            "image/png": "[encoded data removed]",
            "text/plain": [
              "<Figure size 432x288 with 1 Axes>"
            ]
          },
          "metadata": {
            "tags": [],
            "needs_background": "light"
          }
        }
      ]
    },
    {
      "cell_type": "code",
      "metadata": {
        "id": "0w4fk8xjylF5"
      },
      "source": [
        "# Algunas conclusiones importantes?"
      ],
      "execution_count": null,
      "outputs": []
    },
    {
      "cell_type": "markdown",
      "metadata": {
        "id": "Q_XCp4pcSBBk"
      },
      "source": [
        "Presencia de valores missing"
      ]
    },
    {
      "cell_type": "code",
      "metadata": {
        "colab": {
          "base_uri": "https://localhost:8080/"
        },
        "id": "TIINGoJrYLst",
        "outputId": "00db020e-1938-488a-aca5-9c853b04b640"
      },
      "source": [
        "# Revision de valores misssings o nulos - Valores absolutos\n",
        "df[columnsNumeric].isnull().sum()"
      ],
      "execution_count": null,
      "outputs": [
        {
          "output_type": "execute_result",
          "data": {
            "text/plain": [
              "ApplicantIncome       0\n",
              "CoapplicantIncome     0\n",
              "LoanAmount           22\n",
              "Loan_Amount_Term      0\n",
              "Credit_History       48\n",
              "dtype: int64"
            ]
          },
          "metadata": {
            "tags": []
          },
          "execution_count": 25
        }
      ]
    },
    {
      "cell_type": "code",
      "metadata": {
        "colab": {
          "base_uri": "https://localhost:8080/"
        },
        "id": "T3LJh01tYLsw",
        "outputId": "bc5df7fb-a2a0-4a7b-ec51-6f2af5f31948"
      },
      "source": [
        "# Revision de valores misssings o nulos - Valores relativos\n",
        "df[columnsNumeric].isnull().sum()/df.shape[0]*100"
      ],
      "execution_count": null,
      "outputs": [
        {
          "output_type": "execute_result",
          "data": {
            "text/plain": [
              "ApplicantIncome      0.000000\n",
              "CoapplicantIncome    0.000000\n",
              "LoanAmount           3.722504\n",
              "Loan_Amount_Term     0.000000\n",
              "Credit_History       8.121827\n",
              "dtype: float64"
            ]
          },
          "metadata": {
            "tags": []
          },
          "execution_count": 26
        }
      ]
    },
    {
      "cell_type": "code",
      "metadata": {
        "id": "Ew5diPR1vmKM"
      },
      "source": [
        "# Existen valores perdidos, el % es adecuado para imputarlos? se tienen que eliminar?\n",
        "# Eliminar no es opcion, las opciones son imputar o creacion de variables sinteticas!"
      ],
      "execution_count": null,
      "outputs": []
    },
    {
      "cell_type": "code",
      "metadata": {
        "id": "eBrobt1LT0aY"
      },
      "source": [
        "# Imputando el valor de la variable LoanAmount, Monto del prestamo en que le dimos el credito"
      ],
      "execution_count": null,
      "outputs": []
    },
    {
      "cell_type": "code",
      "metadata": {
        "colab": {
          "base_uri": "https://localhost:8080/"
        },
        "id": "c6jnGjwGThCk",
        "outputId": "e5308d9d-77d3-4417-abf0-7481d8c9764d"
      },
      "source": [
        "df.LoanAmount.notnull().value_counts()"
      ],
      "execution_count": null,
      "outputs": [
        {
          "output_type": "execute_result",
          "data": {
            "text/plain": [
              "True     569\n",
              "False     22\n",
              "Name: LoanAmount, dtype: int64"
            ]
          },
          "metadata": {
            "tags": []
          },
          "execution_count": 27
        }
      ]
    },
    {
      "cell_type": "code",
      "metadata": {
        "id": "HXDuKz22ZV24"
      },
      "source": [
        ""
      ],
      "execution_count": null,
      "outputs": []
    },
    {
      "cell_type": "code",
      "metadata": {
        "id": "o1NH7ofgRZND"
      },
      "source": [
        "# Probamos distintas maneras de rellenar o imputar los valores perdidos / Tecnicas Univariadas\n",
        "df['LoanAmount_2'] = df['LoanAmount'].fillna(0)                        # Imputaccion por criterio experto   --2 \n",
        "df['LoanAmount_3'] = df['LoanAmount'].fillna(df.LoanAmount.mean())     # Imputaccion por media              --4\n",
        "df['LoanAmount_4'] = df['LoanAmount'].fillna(df.LoanAmount.median())   # Imputaccion por mediana            --1\n",
        "df['LoanAmount_5'] = df['LoanAmount'].fillna(method = 'backfill')      # Imputaccion por interpolacion      --3 "
      ],
      "execution_count": null,
      "outputs": []
    },
    {
      "cell_type": "code",
      "metadata": {
        "colab": {
          "base_uri": "https://localhost:8080/",
          "height": 300
        },
        "id": "lTZq4u9mUm7V",
        "outputId": "8b4dff19-5052-43f8-8d6f-468f0d1daa42"
      },
      "source": [
        "# Mostramos las estadísticas principales de las nuevas variables\n",
        "df[['LoanAmount','LoanAmount_2','LoanAmount_3','LoanAmount_4','LoanAmount_5']].describe()\n",
        "# Con que imputacion se quedarian?"
      ],
      "execution_count": null,
      "outputs": [
        {
          "output_type": "execute_result",
          "data": {
            "text/html": [
              "<div>\n",
              "<style scoped>\n",
              "    .dataframe tbody tr th:only-of-type {\n",
              "        vertical-align: middle;\n",
              "    }\n",
              "\n",
              "    .dataframe tbody tr th {\n",
              "        vertical-align: top;\n",
              "    }\n",
              "\n",
              "    .dataframe thead th {\n",
              "        text-align: right;\n",
              "    }\n",
              "</style>\n",
              "<table border=\"1\" class=\"dataframe\">\n",
              "  <thead>\n",
              "    <tr style=\"text-align: right;\">\n",
              "      <th></th>\n",
              "      <th>LoanAmount</th>\n",
              "      <th>LoanAmount_2</th>\n",
              "      <th>LoanAmount_3</th>\n",
              "      <th>LoanAmount_4</th>\n",
              "      <th>LoanAmount_5</th>\n",
              "    </tr>\n",
              "  </thead>\n",
              "  <tbody>\n",
              "    <tr>\n",
              "      <th>count</th>\n",
              "      <td>569.000000</td>\n",
              "      <td>591.000000</td>\n",
              "      <td>591.000000</td>\n",
              "      <td>591.000000</td>\n",
              "      <td>591.000000</td>\n",
              "    </tr>\n",
              "    <tr>\n",
              "      <th>mean</th>\n",
              "      <td>147.441125</td>\n",
              "      <td>141.952623</td>\n",
              "      <td>147.441125</td>\n",
              "      <td>146.717428</td>\n",
              "      <td>147.482234</td>\n",
              "    </tr>\n",
              "    <tr>\n",
              "      <th>std</th>\n",
              "      <td>86.918473</td>\n",
              "      <td>89.741537</td>\n",
              "      <td>85.282564</td>\n",
              "      <td>85.362078</td>\n",
              "      <td>86.161551</td>\n",
              "    </tr>\n",
              "    <tr>\n",
              "      <th>min</th>\n",
              "      <td>9.000000</td>\n",
              "      <td>0.000000</td>\n",
              "      <td>9.000000</td>\n",
              "      <td>9.000000</td>\n",
              "      <td>9.000000</td>\n",
              "    </tr>\n",
              "    <tr>\n",
              "      <th>25%</th>\n",
              "      <td>100.000000</td>\n",
              "      <td>98.000000</td>\n",
              "      <td>101.500000</td>\n",
              "      <td>101.500000</td>\n",
              "      <td>100.000000</td>\n",
              "    </tr>\n",
              "    <tr>\n",
              "      <th>50%</th>\n",
              "      <td>128.000000</td>\n",
              "      <td>126.000000</td>\n",
              "      <td>130.000000</td>\n",
              "      <td>128.000000</td>\n",
              "      <td>128.000000</td>\n",
              "    </tr>\n",
              "    <tr>\n",
              "      <th>75%</th>\n",
              "      <td>170.000000</td>\n",
              "      <td>165.500000</td>\n",
              "      <td>165.500000</td>\n",
              "      <td>165.500000</td>\n",
              "      <td>168.000000</td>\n",
              "    </tr>\n",
              "    <tr>\n",
              "      <th>max</th>\n",
              "      <td>700.000000</td>\n",
              "      <td>700.000000</td>\n",
              "      <td>700.000000</td>\n",
              "      <td>700.000000</td>\n",
              "      <td>700.000000</td>\n",
              "    </tr>\n",
              "  </tbody>\n",
              "</table>\n",
              "</div>"
            ],
            "text/plain": [
              "       LoanAmount  LoanAmount_2  LoanAmount_3  LoanAmount_4  LoanAmount_5\n",
              "count  569.000000    591.000000    591.000000    591.000000    591.000000\n",
              "mean   147.441125    141.952623    147.441125    146.717428    147.482234\n",
              "std     86.918473     89.741537     85.282564     85.362078     86.161551\n",
              "min      9.000000      0.000000      9.000000      9.000000      9.000000\n",
              "25%    100.000000     98.000000    101.500000    101.500000    100.000000\n",
              "50%    128.000000    126.000000    130.000000    128.000000    128.000000\n",
              "75%    170.000000    165.500000    165.500000    165.500000    168.000000\n",
              "max    700.000000    700.000000    700.000000    700.000000    700.000000"
            ]
          },
          "metadata": {
            "tags": []
          },
          "execution_count": 29
        }
      ]
    },
    {
      "cell_type": "code",
      "metadata": {
        "colab": {
          "base_uri": "https://localhost:8080/",
          "height": 1000
        },
        "id": "APU2vX6RVL0X",
        "outputId": "4f45dd28-1826-482b-ebf1-71034d325b76"
      },
      "source": [
        "# Revisamos como la imputacion de alguna manera cambia la distribucion de la variable\n",
        "for x in ['LoanAmount','LoanAmount_2','LoanAmount_3','LoanAmount_4','LoanAmount_5']:\n",
        "  Q03 = int(df[x].quantile(0.75))+100\n",
        "  plt.title(df[x].name)\n",
        "  plt.hist(df[x], bins= 100 ,range=(0,Q03))\n",
        "  plt.show()"
      ],
      "execution_count": null,
      "outputs": [
        {
          "output_type": "display_data",
          "data": {
            "image/png": "[encoded data removed]",
            "text/plain": [
              "<Figure size 432x288 with 1 Axes>"
            ]
          },
          "metadata": {
            "tags": [],
            "needs_background": "light"
          }
        },
        {
          "output_type": "display_data",
          "data": {
            "image/png": "[encoded data removed]",
            "text/plain": [
              "<Figure size 432x288 with 1 Axes>"
            ]
          },
          "metadata": {
            "tags": [],
            "needs_background": "light"
          }
        },
        {
          "output_type": "display_data",
          "data": {
            "image/png": "[encoded data removed]",
            "text/plain": [
              "<Figure size 432x288 with 1 Axes>"
            ]
          },
          "metadata": {
            "tags": [],
            "needs_background": "light"
          }
        },
        {
          "output_type": "display_data",
          "data": {
            "image/png": "[encoded data removed]",
            "text/plain": [
              "<Figure size 432x288 with 1 Axes>"
            ]
          },
          "metadata": {
            "tags": [],
            "needs_background": "light"
          }
        },
        {
          "output_type": "display_data",
          "data": {
            "image/png": "[encoded data removed]",
            "text/plain": [
              "<Figure size 432x288 with 1 Axes>"
            ]
          },
          "metadata": {
            "tags": [],
            "needs_background": "light"
          }
        }
      ]
    },
    {
      "cell_type": "code",
      "metadata": {
        "id": "3AjTzBzsauuX"
      },
      "source": [
        "# Vemos que la imputacion 4 y 5 son coherentes o interesantes!"
      ],
      "execution_count": null,
      "outputs": []
    },
    {
      "cell_type": "markdown",
      "metadata": {
        "id": "fmuPSMNTWrVF"
      },
      "source": [
        "Calculamos la asimetria y Kurtosis de las variables"
      ]
    },
    {
      "cell_type": "code",
      "metadata": {
        "id": "a81LOLTBo_9A"
      },
      "source": [
        "#Calculamos la asimetria y Kurtosis de las variables\n",
        "from scipy.stats import kurtosis # Curtosis  Si es (-) -> Platicurtica ; es (0) -> Mesourtica ; es (+) -> Leptocurtica\n",
        "from scipy.stats import skew     # Asimetria Si es (-) -> AsNegativa ; es (0)   -> Simetrica ;  es (+) -> AsPositiva"
      ],
      "execution_count": null,
      "outputs": []
    },
    {
      "cell_type": "code",
      "metadata": {
        "colab": {
          "base_uri": "https://localhost:8080/"
        },
        "id": "nIKTgvzVo_9F",
        "outputId": "1eb82d32-a831-4212-8a45-f64bcd514883"
      },
      "source": [
        "# Generalizando las estadísticas\n",
        "for variable in ['LoanAmount','LoanAmount_2','LoanAmount_3','LoanAmount_4','LoanAmount_5']:\n",
        "    print('\\n',df[variable].name,\":\")\n",
        "    print('Asimetría: ','\\n',round(skew(df[variable].dropna()),3))\n",
        "    print('Kurtosis: ','\\n',round(kurtosis(df[variable].dropna()),3))"
      ],
      "execution_count": null,
      "outputs": [
        {
          "output_type": "stream",
          "text": [
            "\n",
            " LoanAmount :\n",
            "Asimetría:  \n",
            " 2.623\n",
            "Kurtosis:  \n",
            " 9.886\n",
            "\n",
            " LoanAmount_2 :\n",
            "Asimetría:  \n",
            " 2.312\n",
            "Kurtosis:  \n",
            " 8.732\n",
            "\n",
            " LoanAmount_3 :\n",
            "Asimetría:  \n",
            " 2.673\n",
            "Kurtosis:  \n",
            " 10.384\n",
            "\n",
            " LoanAmount_4 :\n",
            "Asimetría:  \n",
            " 2.69\n",
            "Kurtosis:  \n",
            " 10.425\n",
            "\n",
            " LoanAmount_5 :\n",
            "Asimetría:  \n",
            " 2.629\n",
            "Kurtosis:  \n",
            " 9.971\n"
          ],
          "name": "stdout"
        }
      ]
    },
    {
      "cell_type": "code",
      "metadata": {
        "id": "VnyKupa3cWY9"
      },
      "source": [
        "columnsNumeric"
      ],
      "execution_count": null,
      "outputs": []
    },
    {
      "cell_type": "code",
      "metadata": {
        "id": "edyAzVd0VL3b"
      },
      "source": [
        "#Retiramos variables numéricas\n",
        "columnsNumeric.remove('LoanAmount_4')"
      ],
      "execution_count": null,
      "outputs": []
    },
    {
      "cell_type": "code",
      "metadata": {
        "id": "MFqMhMosVSc4"
      },
      "source": [
        "#Aderimos las nuevas variables numéricas\n",
        "columnsNumeric2 = columnsNumeric + ['LoanAmount_5','LoanAmount_4']"
      ],
      "execution_count": null,
      "outputs": []
    },
    {
      "cell_type": "code",
      "metadata": {
        "colab": {
          "base_uri": "https://localhost:8080/"
        },
        "id": "4whGuYX80hAP",
        "outputId": "b36f228f-6c2d-494d-e2cd-f1753c09a1f0"
      },
      "source": [
        "columnsNumeric2"
      ],
      "execution_count": null,
      "outputs": [
        {
          "output_type": "execute_result",
          "data": {
            "text/plain": [
              "['ApplicantIncome',\n",
              " 'CoapplicantIncome',\n",
              " 'LoanAmount',\n",
              " 'Loan_Amount_Term',\n",
              " 'Credit_History',\n",
              " 'LoanAmount_5',\n",
              " 'LoanAmount_4']"
            ]
          },
          "metadata": {
            "tags": []
          },
          "execution_count": 44
        }
      ]
    },
    {
      "cell_type": "markdown",
      "metadata": {
        "id": "b9Mzb83do_9I"
      },
      "source": [
        "#### 3.2. Estudiamos las variables categóricas"
      ]
    },
    {
      "cell_type": "markdown",
      "metadata": {
        "id": "aiQ6BMClte2m"
      },
      "source": [
        "Primeros descubrimientos"
      ]
    },
    {
      "cell_type": "code",
      "metadata": {
        "colab": {
          "base_uri": "https://localhost:8080/",
          "height": 175
        },
        "id": "cgUBTFi5tc1p",
        "outputId": "7a040c48-b080-439f-b098-488d6ca1cecf"
      },
      "source": [
        "df[columnsString].describe(include='O')"
      ],
      "execution_count": null,
      "outputs": [
        {
          "output_type": "execute_result",
          "data": {
            "text/html": [
              "<div>\n",
              "<style scoped>\n",
              "    .dataframe tbody tr th:only-of-type {\n",
              "        vertical-align: middle;\n",
              "    }\n",
              "\n",
              "    .dataframe tbody tr th {\n",
              "        vertical-align: top;\n",
              "    }\n",
              "\n",
              "    .dataframe thead th {\n",
              "        text-align: right;\n",
              "    }\n",
              "</style>\n",
              "<table border=\"1\" class=\"dataframe\">\n",
              "  <thead>\n",
              "    <tr style=\"text-align: right;\">\n",
              "      <th></th>\n",
              "      <th>Gender</th>\n",
              "      <th>Married</th>\n",
              "      <th>Dependents</th>\n",
              "      <th>Education</th>\n",
              "      <th>Self_Employed</th>\n",
              "      <th>Property_Area</th>\n",
              "      <th>Loan_Status</th>\n",
              "    </tr>\n",
              "  </thead>\n",
              "  <tbody>\n",
              "    <tr>\n",
              "      <th>count</th>\n",
              "      <td>578</td>\n",
              "      <td>588</td>\n",
              "      <td>577</td>\n",
              "      <td>591</td>\n",
              "      <td>560</td>\n",
              "      <td>591</td>\n",
              "      <td>591</td>\n",
              "    </tr>\n",
              "    <tr>\n",
              "      <th>unique</th>\n",
              "      <td>2</td>\n",
              "      <td>2</td>\n",
              "      <td>4</td>\n",
              "      <td>2</td>\n",
              "      <td>2</td>\n",
              "      <td>3</td>\n",
              "      <td>2</td>\n",
              "    </tr>\n",
              "    <tr>\n",
              "      <th>top</th>\n",
              "      <td>Male</td>\n",
              "      <td>Yes</td>\n",
              "      <td>0</td>\n",
              "      <td>Graduate</td>\n",
              "      <td>No</td>\n",
              "      <td>Semiurban</td>\n",
              "      <td>Y</td>\n",
              "    </tr>\n",
              "    <tr>\n",
              "      <th>freq</th>\n",
              "      <td>471</td>\n",
              "      <td>383</td>\n",
              "      <td>331</td>\n",
              "      <td>465</td>\n",
              "      <td>482</td>\n",
              "      <td>227</td>\n",
              "      <td>408</td>\n",
              "    </tr>\n",
              "  </tbody>\n",
              "</table>\n",
              "</div>"
            ],
            "text/plain": [
              "       Gender Married Dependents  ... Self_Employed Property_Area Loan_Status\n",
              "count     578     588        577  ...           560           591         591\n",
              "unique      2       2          4  ...             2             3           2\n",
              "top      Male     Yes          0  ...            No     Semiurban           Y\n",
              "freq      471     383        331  ...           482           227         408\n",
              "\n",
              "[4 rows x 7 columns]"
            ]
          },
          "metadata": {
            "tags": []
          },
          "execution_count": 43
        }
      ]
    },
    {
      "cell_type": "code",
      "metadata": {
        "colab": {
          "base_uri": "https://localhost:8080/"
        },
        "id": "tAMMncht16jg",
        "outputId": "ff413236-3452-4539-e425-68e69be5a336"
      },
      "source": [
        "df[columnsString].dtypes"
      ],
      "execution_count": null,
      "outputs": [
        {
          "output_type": "execute_result",
          "data": {
            "text/plain": [
              "Gender           object\n",
              "Married          object\n",
              "Dependents       object\n",
              "Education        object\n",
              "Self_Employed    object\n",
              "Property_Area    object\n",
              "Loan_Status      object\n",
              "dtype: object"
            ]
          },
          "metadata": {
            "tags": []
          },
          "execution_count": 45
        }
      ]
    },
    {
      "cell_type": "code",
      "metadata": {
        "colab": {
          "base_uri": "https://localhost:8080/"
        },
        "id": "uksuDea32Xgz",
        "outputId": "2c2ea113-8cf5-4f71-ab82-12c306a84937"
      },
      "source": [
        "# Validar registros unicos\n",
        "df[columnsString].nunique()"
      ],
      "execution_count": null,
      "outputs": [
        {
          "output_type": "execute_result",
          "data": {
            "text/plain": [
              "Gender           2\n",
              "Married          2\n",
              "Dependents       4\n",
              "Education        2\n",
              "Self_Employed    2\n",
              "Property_Area    3\n",
              "Loan_Status      2\n",
              "dtype: int64"
            ]
          },
          "metadata": {
            "tags": []
          },
          "execution_count": 46
        }
      ]
    },
    {
      "cell_type": "code",
      "metadata": {
        "colab": {
          "base_uri": "https://localhost:8080/"
        },
        "id": "SS9XVXMMgswO",
        "outputId": "c8c56364-107e-434d-ab76-49b22319f3ee"
      },
      "source": [
        "# Validando registros únicos\n",
        "print(df.shape)\n",
        "print(df[columnsString].nunique())"
      ],
      "execution_count": null,
      "outputs": [
        {
          "output_type": "stream",
          "text": [
            "(591, 17)\n",
            "Gender           2\n",
            "Married          2\n",
            "Dependents       4\n",
            "Education        2\n",
            "Self_Employed    2\n",
            "Property_Area    3\n",
            "Loan_Status      2\n",
            "dtype: int64\n"
          ],
          "name": "stdout"
        }
      ]
    },
    {
      "cell_type": "code",
      "metadata": {
        "colab": {
          "base_uri": "https://localhost:8080/"
        },
        "id": "PbRUfhV1o_9I",
        "outputId": "7874765a-9740-4d3c-d1ee-d9a9981b349b"
      },
      "source": [
        "# Mostramos la frecuencia de variables cateóricas para encontras hallazgos\n",
        "for x in columnsString:\n",
        "    print(x)\n",
        "    print(df.groupby(x).size())\n",
        "    print(\"\\n\")"
      ],
      "execution_count": null,
      "outputs": [
        {
          "output_type": "stream",
          "text": [
            "Gender\n",
            "Gender\n",
            "Female    107\n",
            "Male      471\n",
            "dtype: int64\n",
            "\n",
            "\n",
            "Married\n",
            "Married\n",
            "No     205\n",
            "Yes    383\n",
            "dtype: int64\n",
            "\n",
            "\n",
            "Dependents\n",
            "Dependents\n",
            "0     331\n",
            "1      98\n",
            "2      99\n",
            "3+     49\n",
            "dtype: int64\n",
            "\n",
            "\n",
            "Education\n",
            "Education\n",
            "Graduate        465\n",
            "Not Graduate    126\n",
            "dtype: int64\n",
            "\n",
            "\n",
            "Self_Employed\n",
            "Self_Employed\n",
            "No     482\n",
            "Yes     78\n",
            "dtype: int64\n",
            "\n",
            "\n",
            "Property_Area\n",
            "Property_Area\n",
            "Rural        173\n",
            "Semiurban    227\n",
            "Urban        191\n",
            "dtype: int64\n",
            "\n",
            "\n",
            "Loan_Status\n",
            "Loan_Status\n",
            "N    183\n",
            "Y    408\n",
            "dtype: int64\n",
            "\n",
            "\n"
          ],
          "name": "stdout"
        }
      ]
    },
    {
      "cell_type": "code",
      "metadata": {
        "id": "1lTJzDdxo_9M"
      },
      "source": [
        "#Retiramos las variables que no aportan\n",
        "#columnsString.remove('Gender')\n",
        "#df = df.drop(['Gender'],axis = 1)"
      ],
      "execution_count": null,
      "outputs": []
    },
    {
      "cell_type": "code",
      "metadata": {
        "colab": {
          "base_uri": "https://localhost:8080/"
        },
        "id": "MzO4oRqr1hkk",
        "outputId": "4c938470-95b0-474f-b2f6-12eb7f463059"
      },
      "source": [
        "columnsString"
      ],
      "execution_count": null,
      "outputs": [
        {
          "output_type": "execute_result",
          "data": {
            "text/plain": [
              "['Gender',\n",
              " 'Married',\n",
              " 'Dependents',\n",
              " 'Education',\n",
              " 'Self_Employed',\n",
              " 'Property_Area',\n",
              " 'Loan_Status']"
            ]
          },
          "metadata": {
            "tags": []
          },
          "execution_count": 49
        }
      ]
    },
    {
      "cell_type": "markdown",
      "metadata": {
        "id": "OkP5BlW5wQDC"
      },
      "source": [
        "Apoyo del análisis visual"
      ]
    },
    {
      "cell_type": "code",
      "metadata": {
        "colab": {
          "base_uri": "https://localhost:8080/",
          "height": 1000
        },
        "id": "SBvtw_3Oo_9O",
        "outputId": "06420a78-5a22-400c-af26-236994638e93"
      },
      "source": [
        "#Columnas categoricas\n",
        "for x in columnsString:\n",
        "  plt.title(x)\n",
        "  df.fillna(\"--NULL\").groupby(x)[x].count().plot(kind = \"bar\")\n",
        "  plt.show()"
      ],
      "execution_count": null,
      "outputs": [
        {
          "output_type": "display_data",
          "data": {
            "image/png": "[encoded data removed]",
            "text/plain": [
              "<Figure size 432x288 with 1 Axes>"
            ]
          },
          "metadata": {
            "tags": [],
            "needs_background": "light"
          }
        },
        {
          "output_type": "display_data",
          "data": {
            "image/png": "[encoded data removed]",
            "text/plain": [
              "<Figure size 432x288 with 1 Axes>"
            ]
          },
          "metadata": {
            "tags": [],
            "needs_background": "light"
          }
        },
        {
          "output_type": "display_data",
          "data": {
            "image/png": "[encoded data removed]",
            "text/plain": [
              "<Figure size 432x288 with 1 Axes>"
            ]
          },
          "metadata": {
            "tags": [],
            "needs_background": "light"
          }
        },
        {
          "output_type": "display_data",
          "data": {
            "image/png": "[encoded data removed]",
            "text/plain": [
              "<Figure size 432x288 with 1 Axes>"
            ]
          },
          "metadata": {
            "tags": [],
            "needs_background": "light"
          }
        },
        {
          "output_type": "display_data",
          "data": {
            "image/png": "[encoded data removed]",
            "text/plain": [
              "<Figure size 432x288 with 1 Axes>"
            ]
          },
          "metadata": {
            "tags": [],
            "needs_background": "light"
          }
        },
        {
          "output_type": "display_data",
          "data": {
            "image/png": "[encoded data removed]",
            "text/plain": [
              "<Figure size 432x288 with 1 Axes>"
            ]
          },
          "metadata": {
            "tags": [],
            "needs_background": "light"
          }
        },
        {
          "output_type": "display_data",
          "data": {
            "image/png": "[encoded data removed]",
            "text/plain": [
              "<Figure size 432x288 with 1 Axes>"
            ]
          },
          "metadata": {
            "tags": [],
            "needs_background": "light"
          }
        }
      ]
    },
    {
      "cell_type": "markdown",
      "metadata": {
        "id": "sqLFNkpbxwWm"
      },
      "source": [
        "Presencia de valores missing"
      ]
    },
    {
      "cell_type": "code",
      "metadata": {
        "colab": {
          "base_uri": "https://localhost:8080/"
        },
        "id": "CUyDRFknxvDY",
        "outputId": "56743f7b-a647-45eb-bec5-0d83f090cc91"
      },
      "source": [
        "#Presencia de valores missing\n",
        "df[columnsString].isnull().sum()/df.shape[0]*100"
      ],
      "execution_count": null,
      "outputs": [
        {
          "output_type": "execute_result",
          "data": {
            "text/plain": [
              "Gender           2.199662\n",
              "Married          0.507614\n",
              "Dependents       2.368866\n",
              "Education        0.000000\n",
              "Self_Employed    5.245347\n",
              "Property_Area    0.000000\n",
              "Loan_Status      0.000000\n",
              "dtype: float64"
            ]
          },
          "metadata": {
            "tags": []
          },
          "execution_count": 51
        }
      ]
    },
    {
      "cell_type": "code",
      "metadata": {
        "id": "dm_JSzIG1ISA"
      },
      "source": [
        "columnsString"
      ],
      "execution_count": null,
      "outputs": []
    },
    {
      "cell_type": "code",
      "metadata": {
        "id": "jur0PqFeUbQA"
      },
      "source": [
        "df[columnsString].dtypes"
      ],
      "execution_count": null,
      "outputs": []
    },
    {
      "cell_type": "code",
      "metadata": {
        "colab": {
          "base_uri": "https://localhost:8080/"
        },
        "id": "Gmsua7Va2E6e",
        "outputId": "0eba92ae-3ee4-4c52-bdfc-b95c739b2093"
      },
      "source": [
        "# Missings o valores perdidos absolutos\n",
        "df[columnsString].isnull().sum() #obseva"
      ],
      "execution_count": null,
      "outputs": [
        {
          "output_type": "execute_result",
          "data": {
            "text/plain": [
              "Gender           13\n",
              "Married           3\n",
              "Dependents       14\n",
              "Education         0\n",
              "Self_Employed    31\n",
              "Property_Area     0\n",
              "Loan_Status       0\n",
              "dtype: int64"
            ]
          },
          "metadata": {
            "tags": []
          },
          "execution_count": 52
        }
      ]
    },
    {
      "cell_type": "code",
      "metadata": {
        "id": "nvyxkAtXzA6X"
      },
      "source": [
        "# Missings o valores perdidos relativos\n"
      ],
      "execution_count": null,
      "outputs": []
    },
    {
      "cell_type": "code",
      "metadata": {
        "id": "DmVF2JKTxvF9"
      },
      "source": [
        "#Como el porcentaje de nan no es muy grande, hacemos imputacion por moda o criterio experto y seguimos trabajando.\n",
        "df['Married'] =       df['Married'].fillna('Yes')\n",
        "df['Gender'] =        df['Gender'].fillna('Male')\n",
        "df['Dependents'] =    df['Dependents'].fillna('0')\n",
        "df['Self_Employed'] = df['Self_Employed'].fillna('No')\n",
        "\n",
        "# Completar las demas variables"
      ],
      "execution_count": null,
      "outputs": []
    },
    {
      "cell_type": "markdown",
      "metadata": {
        "id": "6c-Ittm2o_9X"
      },
      "source": [
        "Recodificamos variables importantes"
      ]
    },
    {
      "cell_type": "code",
      "metadata": {
        "colab": {
          "base_uri": "https://localhost:8080/"
        },
        "id": "_DgZ_BVwo_9Y",
        "outputId": "e9789578-24fd-40fb-b6a2-f1475e28b321"
      },
      "source": [
        "df.groupby('Dependents').size()/df.shape[0]*100"
      ],
      "execution_count": null,
      "outputs": [
        {
          "output_type": "execute_result",
          "data": {
            "text/plain": [
              "Dependents\n",
              "0     58.375635\n",
              "1     16.582064\n",
              "2     16.751269\n",
              "3+     8.291032\n",
              "dtype: float64"
            ]
          },
          "metadata": {
            "tags": []
          },
          "execution_count": 54
        }
      ]
    },
    {
      "cell_type": "code",
      "metadata": {
        "id": "8IOJxttK3WbO"
      },
      "source": [
        "# Siempre hacemos una nueva columna para probar y despues si todo esta bien la eliminamos\n",
        "df['Dependents2'] = df['Dependents']"
      ],
      "execution_count": null,
      "outputs": []
    },
    {
      "cell_type": "code",
      "metadata": {
        "id": "eBsPWACh3WeK"
      },
      "source": [
        "df['Dependents2'] = df['Dependents2'].replace('3+','3')"
      ],
      "execution_count": null,
      "outputs": []
    },
    {
      "cell_type": "code",
      "metadata": {
        "colab": {
          "base_uri": "https://localhost:8080/"
        },
        "id": "eA1lssLx3WkY",
        "outputId": "16da902e-d2ca-486f-bcff-9fc49bad106e"
      },
      "source": [
        "df.groupby('Dependents2').size()/df.shape[0]*100"
      ],
      "execution_count": null,
      "outputs": [
        {
          "output_type": "execute_result",
          "data": {
            "text/plain": [
              "Dependents2\n",
              "0    58.375635\n",
              "1    16.582064\n",
              "2    16.751269\n",
              "3     8.291032\n",
              "dtype: float64"
            ]
          },
          "metadata": {
            "tags": []
          },
          "execution_count": 57
        }
      ]
    },
    {
      "cell_type": "code",
      "metadata": {
        "id": "hLltCbuxfCK2"
      },
      "source": [
        "df = df.drop(['Dependents'],axis = 1)"
      ],
      "execution_count": null,
      "outputs": []
    },
    {
      "cell_type": "code",
      "metadata": {
        "colab": {
          "base_uri": "https://localhost:8080/",
          "height": 244
        },
        "id": "gkvttkADfai1",
        "outputId": "4868af67-44f4-4a2f-feef-fd27e7a15dba"
      },
      "source": [
        "df.head(5)"
      ],
      "execution_count": null,
      "outputs": [
        {
          "output_type": "execute_result",
          "data": {
            "text/html": [
              "<div>\n",
              "<style scoped>\n",
              "    .dataframe tbody tr th:only-of-type {\n",
              "        vertical-align: middle;\n",
              "    }\n",
              "\n",
              "    .dataframe tbody tr th {\n",
              "        vertical-align: top;\n",
              "    }\n",
              "\n",
              "    .dataframe thead th {\n",
              "        text-align: right;\n",
              "    }\n",
              "</style>\n",
              "<table border=\"1\" class=\"dataframe\">\n",
              "  <thead>\n",
              "    <tr style=\"text-align: right;\">\n",
              "      <th></th>\n",
              "      <th>ID</th>\n",
              "      <th>Gender</th>\n",
              "      <th>Married</th>\n",
              "      <th>Education</th>\n",
              "      <th>Self_Employed</th>\n",
              "      <th>ApplicantIncome</th>\n",
              "      <th>CoapplicantIncome</th>\n",
              "      <th>LoanAmount</th>\n",
              "      <th>Loan_Amount_Term</th>\n",
              "      <th>Credit_History</th>\n",
              "      <th>Property_Area</th>\n",
              "      <th>Loan_Status</th>\n",
              "      <th>LoanAmount_2</th>\n",
              "      <th>LoanAmount_3</th>\n",
              "      <th>LoanAmount_4</th>\n",
              "      <th>LoanAmount_5</th>\n",
              "      <th>Dependents2</th>\n",
              "    </tr>\n",
              "  </thead>\n",
              "  <tbody>\n",
              "    <tr>\n",
              "      <th>0</th>\n",
              "      <td>LP001002</td>\n",
              "      <td>Male</td>\n",
              "      <td>No</td>\n",
              "      <td>Graduate</td>\n",
              "      <td>No</td>\n",
              "      <td>5849.0</td>\n",
              "      <td>0.0</td>\n",
              "      <td>NaN</td>\n",
              "      <td>360.0</td>\n",
              "      <td>1.0</td>\n",
              "      <td>Urban</td>\n",
              "      <td>Y</td>\n",
              "      <td>0.0</td>\n",
              "      <td>147.441125</td>\n",
              "      <td>128.0</td>\n",
              "      <td>128.0</td>\n",
              "      <td>0</td>\n",
              "    </tr>\n",
              "    <tr>\n",
              "      <th>1</th>\n",
              "      <td>LP001003</td>\n",
              "      <td>Male</td>\n",
              "      <td>Yes</td>\n",
              "      <td>Graduate</td>\n",
              "      <td>No</td>\n",
              "      <td>4583.0</td>\n",
              "      <td>1508.0</td>\n",
              "      <td>128.0</td>\n",
              "      <td>360.0</td>\n",
              "      <td>1.0</td>\n",
              "      <td>Rural</td>\n",
              "      <td>N</td>\n",
              "      <td>128.0</td>\n",
              "      <td>128.000000</td>\n",
              "      <td>128.0</td>\n",
              "      <td>128.0</td>\n",
              "      <td>1</td>\n",
              "    </tr>\n",
              "    <tr>\n",
              "      <th>2</th>\n",
              "      <td>LP001005</td>\n",
              "      <td>Male</td>\n",
              "      <td>Yes</td>\n",
              "      <td>Graduate</td>\n",
              "      <td>Yes</td>\n",
              "      <td>3000.0</td>\n",
              "      <td>0.0</td>\n",
              "      <td>66.0</td>\n",
              "      <td>360.0</td>\n",
              "      <td>1.0</td>\n",
              "      <td>Urban</td>\n",
              "      <td>Y</td>\n",
              "      <td>66.0</td>\n",
              "      <td>66.000000</td>\n",
              "      <td>66.0</td>\n",
              "      <td>66.0</td>\n",
              "      <td>0</td>\n",
              "    </tr>\n",
              "    <tr>\n",
              "      <th>3</th>\n",
              "      <td>LP001006</td>\n",
              "      <td>Male</td>\n",
              "      <td>Yes</td>\n",
              "      <td>Not Graduate</td>\n",
              "      <td>No</td>\n",
              "      <td>2583.0</td>\n",
              "      <td>2358.0</td>\n",
              "      <td>120.0</td>\n",
              "      <td>360.0</td>\n",
              "      <td>1.0</td>\n",
              "      <td>Urban</td>\n",
              "      <td>Y</td>\n",
              "      <td>120.0</td>\n",
              "      <td>120.000000</td>\n",
              "      <td>120.0</td>\n",
              "      <td>120.0</td>\n",
              "      <td>0</td>\n",
              "    </tr>\n",
              "    <tr>\n",
              "      <th>4</th>\n",
              "      <td>LP001008</td>\n",
              "      <td>Male</td>\n",
              "      <td>No</td>\n",
              "      <td>Graduate</td>\n",
              "      <td>No</td>\n",
              "      <td>6000.0</td>\n",
              "      <td>0.0</td>\n",
              "      <td>141.0</td>\n",
              "      <td>360.0</td>\n",
              "      <td>1.0</td>\n",
              "      <td>Urban</td>\n",
              "      <td>Y</td>\n",
              "      <td>141.0</td>\n",
              "      <td>141.000000</td>\n",
              "      <td>141.0</td>\n",
              "      <td>141.0</td>\n",
              "      <td>0</td>\n",
              "    </tr>\n",
              "  </tbody>\n",
              "</table>\n",
              "</div>"
            ],
            "text/plain": [
              "         ID Gender Married  ... LoanAmount_4 LoanAmount_5  Dependents2\n",
              "0  LP001002   Male      No  ...        128.0        128.0            0\n",
              "1  LP001003   Male     Yes  ...        128.0        128.0            1\n",
              "2  LP001005   Male     Yes  ...         66.0         66.0            0\n",
              "3  LP001006   Male     Yes  ...        120.0        120.0            0\n",
              "4  LP001008   Male      No  ...        141.0        141.0            0\n",
              "\n",
              "[5 rows x 17 columns]"
            ]
          },
          "metadata": {
            "tags": []
          },
          "execution_count": 59
        }
      ]
    },
    {
      "cell_type": "markdown",
      "metadata": {
        "id": "BjLiYA5SQwJ9"
      },
      "source": [
        "### **4. Análisis Multivariado**"
      ]
    },
    {
      "cell_type": "markdown",
      "metadata": {
        "id": "DnjyC1IcD4M7"
      },
      "source": [
        "#### 4.1. Relación entre variables"
      ]
    },
    {
      "cell_type": "code",
      "metadata": {
        "colab": {
          "base_uri": "https://localhost:8080/"
        },
        "id": "sPfhTuvb4wAN",
        "outputId": "9c88f0d8-a56b-4bd1-d4e0-40dc25d6f50e"
      },
      "source": [
        "columnsNumeric"
      ],
      "execution_count": null,
      "outputs": [
        {
          "output_type": "execute_result",
          "data": {
            "text/plain": [
              "['ApplicantIncome',\n",
              " 'CoapplicantIncome',\n",
              " 'LoanAmount',\n",
              " 'Loan_Amount_Term',\n",
              " 'Credit_History',\n",
              " 'LoanAmount_4']"
            ]
          },
          "metadata": {
            "tags": []
          },
          "execution_count": 60
        }
      ]
    },
    {
      "cell_type": "code",
      "metadata": {
        "colab": {
          "base_uri": "https://localhost:8080/",
          "height": 356
        },
        "id": "BlmSj_luD6WY",
        "outputId": "d5688e5c-0690-4faf-801f-0adc955005fc"
      },
      "source": [
        "# Analizamos la correlación de las variables. Es importante la estandarización en las variables?\n",
        "sns.heatmap(abs(df[columnsNumeric].corr(method='spearman')), annot=True, fmt='.1f', cmap='Blues')\n",
        "plt.show()"
      ],
      "execution_count": null,
      "outputs": [
        {
          "output_type": "display_data",
          "data": {
            "image/png": "[encoded data removed]",
            "text/plain": [
              "<Figure size 432x288 with 2 Axes>"
            ]
          },
          "metadata": {
            "tags": [],
            "needs_background": "light"
          }
        }
      ]
    },
    {
      "cell_type": "code",
      "metadata": {
        "id": "8OHyDf5QaBS6"
      },
      "source": [
        ""
      ],
      "execution_count": null,
      "outputs": []
    },
    {
      "cell_type": "markdown",
      "metadata": {
        "id": "2gKrsuXcNJEf"
      },
      "source": [
        " #### 4.2. Análisis de Varianza (ANOVA)"
      ]
    },
    {
      "cell_type": "code",
      "metadata": {
        "colab": {
          "base_uri": "https://localhost:8080/"
        },
        "id": "KpRMBneTGoEZ",
        "outputId": "c1fc0f8b-81b2-4825-97a8-4dedc6dae229"
      },
      "source": [
        "import scipy.stats as stats\n",
        "import statsmodels.api as sm\n",
        "from statsmodels.formula.api import ols"
      ],
      "execution_count": null,
      "outputs": [
        {
          "output_type": "stream",
          "text": [
            "/usr/local/lib/python3.7/dist-packages/statsmodels/tools/_testing.py:19: FutureWarning: pandas.util.testing is deprecated. Use the functions in the public API at pandas.testing instead.\n",
            "  import pandas.util.testing as tm\n"
          ],
          "name": "stderr"
        }
      ]
    },
    {
      "cell_type": "code",
      "metadata": {
        "colab": {
          "base_uri": "https://localhost:8080/"
        },
        "id": "-IJUtPUn622K",
        "outputId": "f6bfaeb1-799a-4967-846b-c4c2508ac20e"
      },
      "source": [
        "df.dtypes"
      ],
      "execution_count": null,
      "outputs": [
        {
          "output_type": "execute_result",
          "data": {
            "text/plain": [
              "ID                    object\n",
              "Gender                object\n",
              "Married               object\n",
              "Education             object\n",
              "Self_Employed         object\n",
              "ApplicantIncome      float64\n",
              "CoapplicantIncome    float64\n",
              "LoanAmount           float64\n",
              "Loan_Amount_Term     float64\n",
              "Credit_History       float64\n",
              "Property_Area         object\n",
              "Loan_Status           object\n",
              "LoanAmount_2         float64\n",
              "LoanAmount_3         float64\n",
              "LoanAmount_4         float64\n",
              "LoanAmount_5         float64\n",
              "Dependents2           object\n",
              "dtype: object"
            ]
          },
          "metadata": {
            "tags": []
          },
          "execution_count": 66
        }
      ]
    },
    {
      "cell_type": "code",
      "metadata": {
        "colab": {
          "base_uri": "https://localhost:8080/",
          "height": 206
        },
        "id": "H4qL1X9_M_gE",
        "outputId": "36cad0b1-da9e-45d8-cd6b-cd46d6ebd109"
      },
      "source": [
        "# Buscamos las variables adecuadas para el analisis de varianza - ANOVA\n",
        "# Anova: Y : Cuantitativa ;  X: Cualitativa\n",
        "df[['LoanAmount_5','Loan_Status']].head()"
      ],
      "execution_count": null,
      "outputs": [
        {
          "output_type": "execute_result",
          "data": {
            "text/html": [
              "<div>\n",
              "<style scoped>\n",
              "    .dataframe tbody tr th:only-of-type {\n",
              "        vertical-align: middle;\n",
              "    }\n",
              "\n",
              "    .dataframe tbody tr th {\n",
              "        vertical-align: top;\n",
              "    }\n",
              "\n",
              "    .dataframe thead th {\n",
              "        text-align: right;\n",
              "    }\n",
              "</style>\n",
              "<table border=\"1\" class=\"dataframe\">\n",
              "  <thead>\n",
              "    <tr style=\"text-align: right;\">\n",
              "      <th></th>\n",
              "      <th>LoanAmount_5</th>\n",
              "      <th>Loan_Status</th>\n",
              "    </tr>\n",
              "  </thead>\n",
              "  <tbody>\n",
              "    <tr>\n",
              "      <th>0</th>\n",
              "      <td>128.0</td>\n",
              "      <td>Y</td>\n",
              "    </tr>\n",
              "    <tr>\n",
              "      <th>1</th>\n",
              "      <td>128.0</td>\n",
              "      <td>N</td>\n",
              "    </tr>\n",
              "    <tr>\n",
              "      <th>2</th>\n",
              "      <td>66.0</td>\n",
              "      <td>Y</td>\n",
              "    </tr>\n",
              "    <tr>\n",
              "      <th>3</th>\n",
              "      <td>120.0</td>\n",
              "      <td>Y</td>\n",
              "    </tr>\n",
              "    <tr>\n",
              "      <th>4</th>\n",
              "      <td>141.0</td>\n",
              "      <td>Y</td>\n",
              "    </tr>\n",
              "  </tbody>\n",
              "</table>\n",
              "</div>"
            ],
            "text/plain": [
              "   LoanAmount_5 Loan_Status\n",
              "0         128.0           Y\n",
              "1         128.0           N\n",
              "2          66.0           Y\n",
              "3         120.0           Y\n",
              "4         141.0           Y"
            ]
          },
          "metadata": {
            "tags": []
          },
          "execution_count": 67
        }
      ]
    },
    {
      "cell_type": "code",
      "metadata": {
        "colab": {
          "base_uri": "https://localhost:8080/"
        },
        "id": "9MYOAVhl56Qz",
        "outputId": "b8bba31e-51c7-4ece-a71a-fc4483ca5405"
      },
      "source": [
        "# Buscamos las variables adecuadas para el analisis de varianza - ANOVA\n",
        "df[['LoanAmount_5','Loan_Status']].dtypes"
      ],
      "execution_count": null,
      "outputs": [
        {
          "output_type": "execute_result",
          "data": {
            "text/plain": [
              "LoanAmount_5    float64\n",
              "Loan_Status      object\n",
              "dtype: object"
            ]
          },
          "metadata": {
            "tags": []
          },
          "execution_count": 68
        }
      ]
    },
    {
      "cell_type": "code",
      "metadata": {
        "colab": {
          "base_uri": "https://localhost:8080/"
        },
        "id": "mx03Oeue7EN_",
        "outputId": "f5d2f829-b3c6-4992-b788-9a6213a578e7"
      },
      "source": [
        "df.groupby('Loan_Status').size()"
      ],
      "execution_count": null,
      "outputs": [
        {
          "output_type": "execute_result",
          "data": {
            "text/plain": [
              "Loan_Status\n",
              "N    183\n",
              "Y    408\n",
              "dtype: int64"
            ]
          },
          "metadata": {
            "tags": []
          },
          "execution_count": 69
        }
      ]
    },
    {
      "cell_type": "code",
      "metadata": {
        "id": "6IDFirU3M_bf"
      },
      "source": [
        "# Generamos nuestro set de muestras\n",
        "M_1 = df[df['Loan_Status'] == 'Y']['LoanAmount_5']\n",
        "M_2 = df[df['Loan_Status'] == 'N']['LoanAmount_5']"
      ],
      "execution_count": null,
      "outputs": []
    },
    {
      "cell_type": "code",
      "metadata": {
        "id": "h_sKprPwOtDw"
      },
      "source": [
        "# si el p_value < 0.05 existes diferencias significadas entre los grupos"
      ],
      "execution_count": null,
      "outputs": []
    },
    {
      "cell_type": "code",
      "metadata": {
        "colab": {
          "base_uri": "https://localhost:8080/"
        },
        "id": "gyBTUKfpPSmv",
        "outputId": "30b4d4cf-8b07-4fb3-f82b-985bcfc44160"
      },
      "source": [
        "# Obtenemos el valor F y p_value del ANOVA\n",
        "fvalue, pvalue = stats.f_oneway(M_1, M_2)\n",
        "print(fvalue, pvalue)"
      ],
      "execution_count": null,
      "outputs": [
        {
          "output_type": "stream",
          "text": [
            "1.1046113892835006 0.29368733044351125\n"
          ],
          "name": "stdout"
        }
      ]
    },
    {
      "cell_type": "code",
      "metadata": {
        "id": "Nkas0Th8aO3-"
      },
      "source": [
        "# H0: No existe diferencia en los montos de prestamos adeudados en las personas que les doy o no el prestamos\n",
        "# H1: \n",
        "# p-valor < 0.05 ------>  La variable es significativa, es importante, la variable discrimina.\n",
        "# 0.29368733044351125   -> No es importante! o No es el metodo adecuado!"
      ],
      "execution_count": null,
      "outputs": []
    },
    {
      "cell_type": "code",
      "metadata": {
        "id": "0DVvcy-_aO60"
      },
      "source": [
        "# Existen más relaciones entre variables cuantitativas y cualitativas? . Cuál consideras más importante para el marco de datos que estamos analizando?\n",
        "# ## ------------------------------------------------- ## #"
      ],
      "execution_count": null,
      "outputs": []
    },
    {
      "cell_type": "code",
      "metadata": {
        "id": "tWXYU-W4aO9S"
      },
      "source": [
        ""
      ],
      "execution_count": null,
      "outputs": []
    },
    {
      "cell_type": "markdown",
      "metadata": {
        "id": "umhGuPaXWcaM"
      },
      "source": [
        "#### 4.3. Tecnicas de imputación avanzada\n"
      ]
    },
    {
      "cell_type": "code",
      "metadata": {
        "id": "f1SqYW4PYLuu"
      },
      "source": [
        "# Tecnicas de Imputacion Multivariante"
      ],
      "execution_count": null,
      "outputs": []
    },
    {
      "cell_type": "code",
      "metadata": {
        "id": "8Td8CaqzYLuw"
      },
      "source": [
        "df2 = pd.read_csv('/content/gdrive/MyDrive/MLIPy/S2/AdquisicionCreditoHipotecario.csv') #Ruta donde esta su set de datos!"
      ],
      "execution_count": null,
      "outputs": []
    },
    {
      "cell_type": "code",
      "metadata": {
        "id": "3U23V3c_1IcH"
      },
      "source": [
        "from sklearn.experimental import enable_iterative_imputer\n",
        "from sklearn.impute       import IterativeImputer\n",
        "from sklearn.impute import SimpleImputer"
      ],
      "execution_count": null,
      "outputs": []
    },
    {
      "cell_type": "code",
      "metadata": {
        "colab": {
          "base_uri": "https://localhost:8080/"
        },
        "id": "JFuC4bDZYLu0",
        "outputId": "d1bd0072-c947-4539-b6bd-68d075bb085b"
      },
      "source": [
        "# Revisamos si el dataset esta completo o no?\n",
        "# Completitud de los datos!\n",
        "df2.isnull().sum()"
      ],
      "execution_count": null,
      "outputs": [
        {
          "output_type": "execute_result",
          "data": {
            "text/plain": [
              "Loan ID               0\n",
              "Gender               13\n",
              "Married               3\n",
              "Dependents           15\n",
              "Education             0\n",
              "Self Employed        32\n",
              "ApplicantIncome       0\n",
              "CoapplicantIncome     0\n",
              "LoanAmount           22\n",
              "Loan_Amount_Term     14\n",
              "Credit History       50\n",
              "Property_Area         0\n",
              "Loan_Status           0\n",
              "dtype: int64"
            ]
          },
          "metadata": {
            "tags": []
          },
          "execution_count": 77
        }
      ]
    },
    {
      "cell_type": "markdown",
      "metadata": {
        "id": "CAhMBwRZYLu2"
      },
      "source": [
        "##### Imputación Univariada"
      ]
    },
    {
      "cell_type": "code",
      "metadata": {
        "colab": {
          "base_uri": "https://localhost:8080/"
        },
        "id": "lCG4uy3bYLu2",
        "outputId": "4ee5788d-aa74-4c30-a59d-a7e8b605c2cb"
      },
      "source": [
        "# Generamos el imputador simple - Imputacion Univariada Numerico\n",
        "imp_univ_num = SimpleImputer(missing_values=np.nan, strategy='median') # Instanciar\n",
        "imp_univ_num\n",
        "\n",
        "# Generamos el imputador simple - Imputacion Univariada Categorico\n",
        "# Completar"
      ],
      "execution_count": null,
      "outputs": [
        {
          "output_type": "execute_result",
          "data": {
            "text/plain": [
              "SimpleImputer(add_indicator=False, copy=True, fill_value=None,\n",
              "              missing_values=nan, strategy='median', verbose=0)"
            ]
          },
          "metadata": {
            "tags": []
          },
          "execution_count": 78
        }
      ]
    },
    {
      "cell_type": "code",
      "metadata": {
        "colab": {
          "base_uri": "https://localhost:8080/"
        },
        "id": "Q7CzyODdYLu3",
        "outputId": "d5002588-497c-466d-b5e0-4d66699a0773"
      },
      "source": [
        "imp_univ_cat = SimpleImputer(missing_values=np.nan, strategy='most_frequent') # Instanciarimp_univ_cat"
      ],
      "execution_count": null,
      "outputs": [
        {
          "output_type": "execute_result",
          "data": {
            "text/plain": [
              "SimpleImputer(add_indicator=False, copy=True, fill_value=None,\n",
              "              missing_values=nan, strategy='most_frequent', verbose=0)"
            ]
          },
          "metadata": {
            "tags": []
          },
          "execution_count": 79
        }
      ]
    },
    {
      "cell_type": "code",
      "metadata": {
        "id": "BqS-Dl9J8bIg"
      },
      "source": [
        "# Elegimos algunas variables numericas o categoricas para trabajar!\n",
        "data_impt_num = [\"LoanAmount\",\"Loan_Amount_Term\"]\n",
        "data_impt_cat =[\"Gender\",\"Dependents\",\"Self Employed\",\"Credit History\"]"
      ],
      "execution_count": null,
      "outputs": []
    },
    {
      "cell_type": "code",
      "metadata": {
        "id": "FfWEnW1AYLu6"
      },
      "source": [
        "# Revisamos los valores perdidos tanto numericos como categoricos\n"
      ],
      "execution_count": null,
      "outputs": []
    },
    {
      "cell_type": "code",
      "metadata": {
        "id": "Vaz0oAH38dUA"
      },
      "source": [
        "# Realizamos la imputación univariada en una nueva base de datos - Variables Numericas\n",
        "imp_univ_num.fit(df2[data_impt_num])         # 1° Ajuste\n",
        "#imp_univ_num.transform(data_impt_num)\n",
        "imputed_data_univ_num = pd.DataFrame(data=imp_univ_num.transform(df2[data_impt_num]),  # Prediccion\n",
        "                             columns=['LoanAmount', 'Loan_Amount_Term'],dtype='float')"
      ],
      "execution_count": null,
      "outputs": []
    },
    {
      "cell_type": "code",
      "metadata": {
        "id": "i21L0fQnYLu_"
      },
      "source": [
        "# Realizamos la imputación univariada en una nueva base de datos - Variables Categoricas\n",
        "imp_univ_cat.fit(df2[data_impt_cat])         # 1° Ajuste\n",
        "#imp_univ_num.transform(data_impt_num)\n",
        "imputed_data_univ_cat = pd.DataFrame(data=imp_univ_cat.transform(df2[data_impt_cat]),  # Prediccion\n",
        "                             columns=[\"Gender\",\"Dependents\",\"SelfEmployed\",\"Credit History\"],dtype='object')"
      ],
      "execution_count": null,
      "outputs": []
    },
    {
      "cell_type": "code",
      "metadata": {
        "id": "fwotZkb_YLvA",
        "colab": {
          "base_uri": "https://localhost:8080/"
        },
        "outputId": "b9a10eb0-2cb6-444e-d557-8e6c06299946"
      },
      "source": [
        "# Revisamos la imputacion\n",
        "imputed_data_univ_cat.isnull().sum()"
      ],
      "execution_count": null,
      "outputs": [
        {
          "output_type": "execute_result",
          "data": {
            "text/plain": [
              "Gender            0\n",
              "Dependents        0\n",
              "SelfEmployed      0\n",
              "Credit History    0\n",
              "dtype: int64"
            ]
          },
          "metadata": {
            "tags": []
          },
          "execution_count": 96
        }
      ]
    },
    {
      "cell_type": "code",
      "metadata": {
        "id": "3Pz1eVDcYLvD",
        "colab": {
          "base_uri": "https://localhost:8080/",
          "height": 206
        },
        "outputId": "d6effb73-0724-48c0-91d8-9320e6c28304"
      },
      "source": [
        "# Unimos los set de datos!\n",
        "df3=pd.concat([imputed_data_univ_num,imputed_data_univ_cat],axis=1)\n",
        "df3.head()"
      ],
      "execution_count": null,
      "outputs": [
        {
          "output_type": "execute_result",
          "data": {
            "text/html": [
              "<div>\n",
              "<style scoped>\n",
              "    .dataframe tbody tr th:only-of-type {\n",
              "        vertical-align: middle;\n",
              "    }\n",
              "\n",
              "    .dataframe tbody tr th {\n",
              "        vertical-align: top;\n",
              "    }\n",
              "\n",
              "    .dataframe thead th {\n",
              "        text-align: right;\n",
              "    }\n",
              "</style>\n",
              "<table border=\"1\" class=\"dataframe\">\n",
              "  <thead>\n",
              "    <tr style=\"text-align: right;\">\n",
              "      <th></th>\n",
              "      <th>LoanAmount</th>\n",
              "      <th>Loan_Amount_Term</th>\n",
              "      <th>Gender</th>\n",
              "      <th>Dependents</th>\n",
              "      <th>SelfEmployed</th>\n",
              "      <th>Credit History</th>\n",
              "    </tr>\n",
              "  </thead>\n",
              "  <tbody>\n",
              "    <tr>\n",
              "      <th>0</th>\n",
              "      <td>128.0</td>\n",
              "      <td>360.0</td>\n",
              "      <td>Male</td>\n",
              "      <td>0</td>\n",
              "      <td>No</td>\n",
              "      <td>1</td>\n",
              "    </tr>\n",
              "    <tr>\n",
              "      <th>1</th>\n",
              "      <td>128.0</td>\n",
              "      <td>360.0</td>\n",
              "      <td>Male</td>\n",
              "      <td>1</td>\n",
              "      <td>No</td>\n",
              "      <td>1</td>\n",
              "    </tr>\n",
              "    <tr>\n",
              "      <th>2</th>\n",
              "      <td>66.0</td>\n",
              "      <td>360.0</td>\n",
              "      <td>Male</td>\n",
              "      <td>0</td>\n",
              "      <td>Yes</td>\n",
              "      <td>1</td>\n",
              "    </tr>\n",
              "    <tr>\n",
              "      <th>3</th>\n",
              "      <td>120.0</td>\n",
              "      <td>360.0</td>\n",
              "      <td>Male</td>\n",
              "      <td>0</td>\n",
              "      <td>No</td>\n",
              "      <td>1</td>\n",
              "    </tr>\n",
              "    <tr>\n",
              "      <th>4</th>\n",
              "      <td>141.0</td>\n",
              "      <td>360.0</td>\n",
              "      <td>Male</td>\n",
              "      <td>0</td>\n",
              "      <td>No</td>\n",
              "      <td>1</td>\n",
              "    </tr>\n",
              "  </tbody>\n",
              "</table>\n",
              "</div>"
            ],
            "text/plain": [
              "   LoanAmount  Loan_Amount_Term Gender Dependents SelfEmployed Credit History\n",
              "0       128.0             360.0   Male          0           No              1\n",
              "1       128.0             360.0   Male          1           No              1\n",
              "2        66.0             360.0   Male          0          Yes              1\n",
              "3       120.0             360.0   Male          0           No              1\n",
              "4       141.0             360.0   Male          0           No              1"
            ]
          },
          "metadata": {
            "tags": []
          },
          "execution_count": 97
        }
      ]
    },
    {
      "cell_type": "code",
      "metadata": {
        "colab": {
          "base_uri": "https://localhost:8080/",
          "height": 145
        },
        "id": "Dc9y5PczkclJ",
        "outputId": "237c3b70-ed79-404c-f22a-baeea6a5fe16"
      },
      "source": [
        "# Comprobamos los valores nulos!"
      ],
      "execution_count": null,
      "outputs": [
        {
          "output_type": "execute_result",
          "data": {
            "text/plain": [
              "LoanAmount          0\n",
              "Loan_Amount_Term    0\n",
              "Credit_History      0\n",
              "Gender              0\n",
              "Married             0\n",
              "Dependents          0\n",
              "dtype: int64"
            ]
          },
          "metadata": {
            "tags": []
          },
          "execution_count": 103
        }
      ]
    },
    {
      "cell_type": "markdown",
      "metadata": {
        "id": "1hdpo4n_YLvF"
      },
      "source": [
        "##### Imputación Multivariada"
      ]
    },
    {
      "cell_type": "code",
      "metadata": {
        "id": "px8a8lf_k3m8"
      },
      "source": [
        "df4 = pd.read_csv('/content/gdrive/MyDrive/MLIPy/S2/AdquisicionCreditoHipotecario.csv') #Ruta donde esta su set de datos!"
      ],
      "execution_count": null,
      "outputs": []
    },
    {
      "cell_type": "code",
      "metadata": {
        "id": "nG58tc3Fk61G",
        "colab": {
          "base_uri": "https://localhost:8080/"
        },
        "outputId": "3428ab86-ba49-4c9f-c442-faee09ca85f7"
      },
      "source": [
        "df4.isnull().sum()"
      ],
      "execution_count": null,
      "outputs": [
        {
          "output_type": "execute_result",
          "data": {
            "text/plain": [
              "Loan ID               0\n",
              "Gender               13\n",
              "Married               3\n",
              "Dependents           15\n",
              "Education             0\n",
              "Self Employed        32\n",
              "ApplicantIncome       0\n",
              "CoapplicantIncome     0\n",
              "LoanAmount           22\n",
              "Loan_Amount_Term     14\n",
              "Credit History       50\n",
              "Property_Area         0\n",
              "Loan_Status           0\n",
              "dtype: int64"
            ]
          },
          "metadata": {
            "tags": []
          },
          "execution_count": 99
        }
      ]
    },
    {
      "cell_type": "code",
      "metadata": {
        "id": "akNoVz0XlKqK"
      },
      "source": [
        "data_impt = df4[['LoanAmount', 'Loan_Amount_Term', 'Credit History']]"
      ],
      "execution_count": null,
      "outputs": []
    },
    {
      "cell_type": "code",
      "metadata": {
        "id": "_n50Pt1UYLvF",
        "colab": {
          "base_uri": "https://localhost:8080/"
        },
        "outputId": "ea285aaf-8dfc-4137-80f0-324d6b239d7d"
      },
      "source": [
        "# Generamos el imputador iterativo - Imputacion Multivariada\n",
        "imp_mult = IterativeImputer(missing_values=np.nan, max_iter=10, \n",
        "                            n_nearest_features=10,\n",
        "                            random_state=0)\n",
        "imp_mult"
      ],
      "execution_count": null,
      "outputs": [
        {
          "output_type": "execute_result",
          "data": {
            "text/plain": [
              "IterativeImputer(add_indicator=False, estimator=None,\n",
              "                 imputation_order='ascending', initial_strategy='mean',\n",
              "                 max_iter=10, max_value=None, min_value=None,\n",
              "                 missing_values=nan, n_nearest_features=10, random_state=0,\n",
              "                 sample_posterior=False, skip_complete=False, tol=0.001,\n",
              "                 verbose=0)"
            ]
          },
          "metadata": {
            "tags": []
          },
          "execution_count": 102
        }
      ]
    },
    {
      "cell_type": "code",
      "metadata": {
        "id": "pF2OZ47lYLvH"
      },
      "source": [
        "# Realizamos la imputación multivariada en una nueva base de datos\n",
        "imp_mult.fit(data_impt)\n",
        "imputed_data_multi = pd.DataFrame(data=imp_mult.transform(data_impt), \n",
        "                             columns=['LoanAmount', 'Loan_Amount_Term', 'Credit_History'],dtype='float')"
      ],
      "execution_count": null,
      "outputs": []
    },
    {
      "cell_type": "code",
      "metadata": {
        "id": "vboo4MM-YLvI",
        "colab": {
          "base_uri": "https://localhost:8080/"
        },
        "outputId": "d75cba14-729e-41ef-e92d-62544e3120d3"
      },
      "source": [
        "imputed_data_multi.isnull().sum()"
      ],
      "execution_count": null,
      "outputs": [
        {
          "output_type": "execute_result",
          "data": {
            "text/plain": [
              "LoanAmount          0\n",
              "Loan_Amount_Term    0\n",
              "Credit_History      0\n",
              "dtype: int64"
            ]
          },
          "metadata": {
            "tags": []
          },
          "execution_count": 104
        }
      ]
    },
    {
      "cell_type": "code",
      "metadata": {
        "id": "Sf4TVP2A67rC",
        "colab": {
          "base_uri": "https://localhost:8080/",
          "height": 455
        },
        "outputId": "58a66934-17da-4052-ad02-54761ceffcf9"
      },
      "source": [
        "# Comparamos los distintos metodos de imputacion\n",
        "plt.figure()\n",
        "\n",
        "plt.subplot(2,2,1)\n",
        "Q03 = int(df2[\"LoanAmount\"].quantile(0.75))+100\n",
        "plt.title(df2[\"LoanAmount\"].name)\n",
        "plt.hist(df2[\"LoanAmount\"], bins= 80 ,range=(0,Q03))\n",
        "plt.show()\n",
        "\n",
        "plt.subplot(2,2,2)\n",
        "Q03 = int(df3[\"LoanAmount\"].quantile(0.75))+100\n",
        "plt.title(df3[\"LoanAmount\"].name)\n",
        "plt.hist(df3[\"LoanAmount\"], bins= 80 ,range=(0,Q03))\n",
        "plt.show()\n",
        "\n",
        "plt.subplot(2,2,2)\n",
        "Q03 = int(imputed_data_multi[\"LoanAmount\"].quantile(0.75))+100\n",
        "plt.title(imputed_data_multi[\"LoanAmount\"].name)\n",
        "plt.hist(imputed_data_multi[\"LoanAmount\"], bins= 80 ,range=(0,Q03))\n",
        "plt.show()"
      ],
      "execution_count": null,
      "outputs": [
        {
          "output_type": "display_data",
          "data": {
            "image/png": "[encoded data removed]",
            "text/plain": [
              "<Figure size 432x288 with 1 Axes>"
            ]
          },
          "metadata": {
            "tags": [],
            "needs_background": "light"
          }
        },
        {
          "output_type": "display_data",
          "data": {
            "image/png": "[encoded data removed]",
            "text/plain": [
              "<Figure size 432x288 with 1 Axes>"
            ]
          },
          "metadata": {
            "tags": [],
            "needs_background": "light"
          }
        },
        {
          "output_type": "display_data",
          "data": {
            "image/png": "[encoded data removed]",
            "text/plain": [
              "<Figure size 432x288 with 1 Axes>"
            ]
          },
          "metadata": {
            "tags": [],
            "needs_background": "light"
          }
        }
      ]
    },
    {
      "cell_type": "code",
      "metadata": {
        "id": "VCWbzZx6Lfl4"
      },
      "source": [
        "# Calcular algunas estadísticas descriptivas de los datos sin imputacion, con imputacion univariada y \n",
        "# con imputacion multivariada.\n",
        "# Qué imputación es la más adecuada?"
      ],
      "execution_count": null,
      "outputs": []
    },
    {
      "cell_type": "code",
      "metadata": {
        "id": "XCIdVDwmVRAo"
      },
      "source": [
        "# Gracias!"
      ],
      "execution_count": null,
      "outputs": []
    }
  ]
}